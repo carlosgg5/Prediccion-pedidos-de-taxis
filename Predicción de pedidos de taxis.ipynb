{
 "cells": [
  {
   "cell_type": "markdown",
   "metadata": {},
   "source": [
    "# Descripción del proyecto\n",
    "\n",
    "La compañía Sweet Lift Taxi ha recopilado datos históricos sobre pedidos de taxis en los aeropuertos. Para atraer a más conductores durante las horas pico, necesitamos predecir la cantidad de pedidos de taxis para la próxima hora. Construye un modelo para dicha predicción.\n",
    "\n",
    "La métrica RECM en el conjunto de prueba no debe ser superior a 48.\n",
    "\n",
    "## Instrucciones del proyecto.\n",
    "\n",
    "1. Descarga los datos y haz el remuestreo por una hora.\n",
    "2. Analiza los datos\n",
    "3. Entrena diferentes modelos con diferentes hiperparámetros. La muestra de prueba debe ser el 10% del conjunto de datos inicial.4. Prueba los datos usando la muestra de prueba y proporciona una conclusión.\n",
    "\n",
    "## Descripción de los datos\n",
    "\n",
    "Los datos se almacenan en el archivo `taxi.csv`. \t\n",
    "El número de pedidos está en la columna `num_orders`."
   ]
  },
  {
   "cell_type": "markdown",
   "metadata": {},
   "source": [
    "## Preparación"
   ]
  },
  {
   "cell_type": "code",
   "execution_count": 1,
   "metadata": {},
   "outputs": [],
   "source": [
    "import numpy as np\n",
    "import pandas as pd\n",
    "from statsmodels.tsa.seasonal import seasonal_decompose\n",
    "import matplotlib.pyplot as plt\n",
    "from sklearn.model_selection import train_test_split\n",
    "from sklearn.linear_model import LinearRegression\n",
    "from sklearn.metrics import mean_squared_error\n",
    "from sklearn.ensemble import RandomForestRegressor\n",
    "from catboost import CatBoostRegressor"
   ]
  },
  {
   "cell_type": "markdown",
   "metadata": {},
   "source": [
    "### Carga de datos"
   ]
  },
  {
   "cell_type": "code",
   "execution_count": 2,
   "metadata": {},
   "outputs": [],
   "source": [
    "df = pd.read_csv('/datasets/taxi.csv')"
   ]
  },
  {
   "cell_type": "code",
   "execution_count": 3,
   "metadata": {},
   "outputs": [
    {
     "name": "stdout",
     "output_type": "stream",
     "text": [
      "<class 'pandas.core.frame.DataFrame'>\n",
      "RangeIndex: 26496 entries, 0 to 26495\n",
      "Data columns (total 2 columns):\n",
      " #   Column      Non-Null Count  Dtype \n",
      "---  ------      --------------  ----- \n",
      " 0   datetime    26496 non-null  object\n",
      " 1   num_orders  26496 non-null  int64 \n",
      "dtypes: int64(1), object(1)\n",
      "memory usage: 414.1+ KB\n"
     ]
    }
   ],
   "source": [
    "df.info()"
   ]
  },
  {
   "cell_type": "code",
   "execution_count": 4,
   "metadata": {},
   "outputs": [
    {
     "data": {
      "text/html": [
       "<div>\n",
       "<style scoped>\n",
       "    .dataframe tbody tr th:only-of-type {\n",
       "        vertical-align: middle;\n",
       "    }\n",
       "\n",
       "    .dataframe tbody tr th {\n",
       "        vertical-align: top;\n",
       "    }\n",
       "\n",
       "    .dataframe thead th {\n",
       "        text-align: right;\n",
       "    }\n",
       "</style>\n",
       "<table border=\"1\" class=\"dataframe\">\n",
       "  <thead>\n",
       "    <tr style=\"text-align: right;\">\n",
       "      <th></th>\n",
       "      <th>datetime</th>\n",
       "      <th>num_orders</th>\n",
       "    </tr>\n",
       "  </thead>\n",
       "  <tbody>\n",
       "    <tr>\n",
       "      <th>1801</th>\n",
       "      <td>2018-03-13 12:10:00</td>\n",
       "      <td>3</td>\n",
       "    </tr>\n",
       "    <tr>\n",
       "      <th>8535</th>\n",
       "      <td>2018-04-29 06:30:00</td>\n",
       "      <td>0</td>\n",
       "    </tr>\n",
       "    <tr>\n",
       "      <th>10916</th>\n",
       "      <td>2018-05-15 19:20:00</td>\n",
       "      <td>8</td>\n",
       "    </tr>\n",
       "    <tr>\n",
       "      <th>19383</th>\n",
       "      <td>2018-07-13 14:30:00</td>\n",
       "      <td>26</td>\n",
       "    </tr>\n",
       "    <tr>\n",
       "      <th>13831</th>\n",
       "      <td>2018-06-05 01:10:00</td>\n",
       "      <td>11</td>\n",
       "    </tr>\n",
       "  </tbody>\n",
       "</table>\n",
       "</div>"
      ],
      "text/plain": [
       "                  datetime  num_orders\n",
       "1801   2018-03-13 12:10:00           3\n",
       "8535   2018-04-29 06:30:00           0\n",
       "10916  2018-05-15 19:20:00           8\n",
       "19383  2018-07-13 14:30:00          26\n",
       "13831  2018-06-05 01:10:00          11"
      ]
     },
     "execution_count": 4,
     "metadata": {},
     "output_type": "execute_result"
    }
   ],
   "source": [
    "df.sample(5)"
   ]
  },
  {
   "cell_type": "code",
   "execution_count": 5,
   "metadata": {},
   "outputs": [],
   "source": [
    "#Cambiar tipo de datos de columna datetime de object a datetime\n",
    "df['datetime'] = pd.to_datetime(df['datetime'])"
   ]
  },
  {
   "cell_type": "code",
   "execution_count": 6,
   "metadata": {},
   "outputs": [
    {
     "name": "stdout",
     "output_type": "stream",
     "text": [
      "<class 'pandas.core.frame.DataFrame'>\n",
      "RangeIndex: 26496 entries, 0 to 26495\n",
      "Data columns (total 2 columns):\n",
      " #   Column      Non-Null Count  Dtype         \n",
      "---  ------      --------------  -----         \n",
      " 0   datetime    26496 non-null  datetime64[ns]\n",
      " 1   num_orders  26496 non-null  int64         \n",
      "dtypes: datetime64[ns](1), int64(1)\n",
      "memory usage: 414.1 KB\n"
     ]
    }
   ],
   "source": [
    "#Comprobar que se realizo correctamente el cambio de tipo de datos\n",
    "df.info()"
   ]
  },
  {
   "cell_type": "code",
   "execution_count": 7,
   "metadata": {},
   "outputs": [],
   "source": [
    "#Definir la columna datetime como index\n",
    "df.set_index('datetime', inplace = True)"
   ]
  },
  {
   "cell_type": "code",
   "execution_count": 8,
   "metadata": {},
   "outputs": [
    {
     "name": "stdout",
     "output_type": "stream",
     "text": [
      "<class 'pandas.core.frame.DataFrame'>\n",
      "DatetimeIndex: 26496 entries, 2018-03-01 00:00:00 to 2018-08-31 23:50:00\n",
      "Data columns (total 1 columns):\n",
      " #   Column      Non-Null Count  Dtype\n",
      "---  ------      --------------  -----\n",
      " 0   num_orders  26496 non-null  int64\n",
      "dtypes: int64(1)\n",
      "memory usage: 414.0 KB\n"
     ]
    }
   ],
   "source": [
    "df.info()"
   ]
  },
  {
   "cell_type": "code",
   "execution_count": 9,
   "metadata": {},
   "outputs": [
    {
     "name": "stdout",
     "output_type": "stream",
     "text": [
      "True\n"
     ]
    }
   ],
   "source": [
    "#Verificar si las fechas estan en orden cronologico\n",
    "print(df.index.is_monotonic)"
   ]
  },
  {
   "cell_type": "code",
   "execution_count": 10,
   "metadata": {},
   "outputs": [],
   "source": [
    "#Hacer remuestreo por 1 hora\n",
    "data = df.resample('1H').sum()"
   ]
  },
  {
   "cell_type": "markdown",
   "metadata": {},
   "source": [
    "## Análisis"
   ]
  },
  {
   "cell_type": "code",
   "execution_count": 11,
   "metadata": {},
   "outputs": [
    {
     "data": {
      "text/plain": [
       "<AxesSubplot:xlabel='datetime'>"
      ]
     },
     "execution_count": 11,
     "metadata": {},
     "output_type": "execute_result"
    },
    {
     "data": {
      "image/png": "[encoded data removed]",
      "text/plain": [
       "<Figure size 640x480 with 1 Axes>"
      ]
     },
     "metadata": {},
     "output_type": "display_data"
    }
   ],
   "source": [
    "#Crear grafico de los datos\n",
    "data.plot()"
   ]
  },
  {
   "cell_type": "code",
   "execution_count": 12,
   "metadata": {},
   "outputs": [],
   "source": [
    "#Obtener tendencia, estacionalidad y residuos de la serie de datos\n",
    "decomposed = seasonal_decompose(data['num_orders'])"
   ]
  },
  {
   "cell_type": "code",
   "execution_count": 13,
   "metadata": {},
   "outputs": [
    {
     "data": {
      "image/png": "[encoded data removed]",
      "text/plain": [
       "<Figure size 800x1000 with 3 Axes>"
      ]
     },
     "metadata": {},
     "output_type": "display_data"
    }
   ],
   "source": [
    "#Crear grafico para tendencia, estacionalidad y residuos de los datos del 2 al 8 de marzo.\n",
    "plt.figure(figsize=(8, 10))\n",
    "plt.subplot(311)\n",
    "decomposed.trend['2018-03-02':'2018-03-08'].plot(ax=plt.gca())\n",
    "plt.title('Trend')\n",
    "plt.subplot(312)\n",
    "decomposed.seasonal['2018-03-02':'2018-03-08'].plot(ax=plt.gca())\n",
    "plt.title('Seasonality')\n",
    "plt.subplot(313)\n",
    "decomposed.resid['2018-03-02':'2018-03-08'].plot(ax=plt.gca())\n",
    "plt.title('Residuals')\n",
    "plt.tight_layout()"
   ]
  },
  {
   "cell_type": "markdown",
   "metadata": {},
   "source": [
    "Se observa un patron en la grafica de estacionalidad que se repite cada día"
   ]
  },
  {
   "cell_type": "markdown",
   "metadata": {},
   "source": [
    "## Formación"
   ]
  },
  {
   "cell_type": "code",
   "execution_count": 14,
   "metadata": {},
   "outputs": [],
   "source": [
    "#Crear funcion para creación de caracteristicas\n",
    "def make_features(data, max_lag, rolling_mean_size):\n",
    "    data['month'] = data.index.month\n",
    "    data['day'] = data.index.day\n",
    "    data['dayofweek'] = data.index.dayofweek\n",
    "    data['hour'] = data.index.hour\n",
    "\n",
    "    for lag in range(1, max_lag + 1):\n",
    "        data['lag_{}'.format(lag)] = data['num_orders'].shift(lag)\n",
    "\n",
    "    data['rolling_mean'] = (data['num_orders'].shift().rolling(rolling_mean_size).mean())"
   ]
  },
  {
   "cell_type": "code",
   "execution_count": 15,
   "metadata": {},
   "outputs": [],
   "source": [
    "make_features(data, 5, 10)"
   ]
  },
  {
   "cell_type": "code",
   "execution_count": 16,
   "metadata": {},
   "outputs": [
    {
     "data": {
      "text/html": [
       "<div>\n",
       "<style scoped>\n",
       "    .dataframe tbody tr th:only-of-type {\n",
       "        vertical-align: middle;\n",
       "    }\n",
       "\n",
       "    .dataframe tbody tr th {\n",
       "        vertical-align: top;\n",
       "    }\n",
       "\n",
       "    .dataframe thead th {\n",
       "        text-align: right;\n",
       "    }\n",
       "</style>\n",
       "<table border=\"1\" class=\"dataframe\">\n",
       "  <thead>\n",
       "    <tr style=\"text-align: right;\">\n",
       "      <th></th>\n",
       "      <th>num_orders</th>\n",
       "      <th>month</th>\n",
       "      <th>day</th>\n",
       "      <th>dayofweek</th>\n",
       "      <th>hour</th>\n",
       "      <th>lag_1</th>\n",
       "      <th>lag_2</th>\n",
       "      <th>lag_3</th>\n",
       "      <th>lag_4</th>\n",
       "      <th>lag_5</th>\n",
       "      <th>rolling_mean</th>\n",
       "    </tr>\n",
       "    <tr>\n",
       "      <th>datetime</th>\n",
       "      <th></th>\n",
       "      <th></th>\n",
       "      <th></th>\n",
       "      <th></th>\n",
       "      <th></th>\n",
       "      <th></th>\n",
       "      <th></th>\n",
       "      <th></th>\n",
       "      <th></th>\n",
       "      <th></th>\n",
       "      <th></th>\n",
       "    </tr>\n",
       "  </thead>\n",
       "  <tbody>\n",
       "    <tr>\n",
       "      <th>2018-03-01 00:00:00</th>\n",
       "      <td>124</td>\n",
       "      <td>3</td>\n",
       "      <td>1</td>\n",
       "      <td>3</td>\n",
       "      <td>0</td>\n",
       "      <td>NaN</td>\n",
       "      <td>NaN</td>\n",
       "      <td>NaN</td>\n",
       "      <td>NaN</td>\n",
       "      <td>NaN</td>\n",
       "      <td>NaN</td>\n",
       "    </tr>\n",
       "    <tr>\n",
       "      <th>2018-03-01 01:00:00</th>\n",
       "      <td>85</td>\n",
       "      <td>3</td>\n",
       "      <td>1</td>\n",
       "      <td>3</td>\n",
       "      <td>1</td>\n",
       "      <td>124.0</td>\n",
       "      <td>NaN</td>\n",
       "      <td>NaN</td>\n",
       "      <td>NaN</td>\n",
       "      <td>NaN</td>\n",
       "      <td>NaN</td>\n",
       "    </tr>\n",
       "    <tr>\n",
       "      <th>2018-03-01 02:00:00</th>\n",
       "      <td>71</td>\n",
       "      <td>3</td>\n",
       "      <td>1</td>\n",
       "      <td>3</td>\n",
       "      <td>2</td>\n",
       "      <td>85.0</td>\n",
       "      <td>124.0</td>\n",
       "      <td>NaN</td>\n",
       "      <td>NaN</td>\n",
       "      <td>NaN</td>\n",
       "      <td>NaN</td>\n",
       "    </tr>\n",
       "    <tr>\n",
       "      <th>2018-03-01 03:00:00</th>\n",
       "      <td>66</td>\n",
       "      <td>3</td>\n",
       "      <td>1</td>\n",
       "      <td>3</td>\n",
       "      <td>3</td>\n",
       "      <td>71.0</td>\n",
       "      <td>85.0</td>\n",
       "      <td>124.0</td>\n",
       "      <td>NaN</td>\n",
       "      <td>NaN</td>\n",
       "      <td>NaN</td>\n",
       "    </tr>\n",
       "    <tr>\n",
       "      <th>2018-03-01 04:00:00</th>\n",
       "      <td>43</td>\n",
       "      <td>3</td>\n",
       "      <td>1</td>\n",
       "      <td>3</td>\n",
       "      <td>4</td>\n",
       "      <td>66.0</td>\n",
       "      <td>71.0</td>\n",
       "      <td>85.0</td>\n",
       "      <td>124.0</td>\n",
       "      <td>NaN</td>\n",
       "      <td>NaN</td>\n",
       "    </tr>\n",
       "    <tr>\n",
       "      <th>2018-03-01 05:00:00</th>\n",
       "      <td>6</td>\n",
       "      <td>3</td>\n",
       "      <td>1</td>\n",
       "      <td>3</td>\n",
       "      <td>5</td>\n",
       "      <td>43.0</td>\n",
       "      <td>66.0</td>\n",
       "      <td>71.0</td>\n",
       "      <td>85.0</td>\n",
       "      <td>124.0</td>\n",
       "      <td>NaN</td>\n",
       "    </tr>\n",
       "    <tr>\n",
       "      <th>2018-03-01 06:00:00</th>\n",
       "      <td>12</td>\n",
       "      <td>3</td>\n",
       "      <td>1</td>\n",
       "      <td>3</td>\n",
       "      <td>6</td>\n",
       "      <td>6.0</td>\n",
       "      <td>43.0</td>\n",
       "      <td>66.0</td>\n",
       "      <td>71.0</td>\n",
       "      <td>85.0</td>\n",
       "      <td>NaN</td>\n",
       "    </tr>\n",
       "    <tr>\n",
       "      <th>2018-03-01 07:00:00</th>\n",
       "      <td>15</td>\n",
       "      <td>3</td>\n",
       "      <td>1</td>\n",
       "      <td>3</td>\n",
       "      <td>7</td>\n",
       "      <td>12.0</td>\n",
       "      <td>6.0</td>\n",
       "      <td>43.0</td>\n",
       "      <td>66.0</td>\n",
       "      <td>71.0</td>\n",
       "      <td>NaN</td>\n",
       "    </tr>\n",
       "    <tr>\n",
       "      <th>2018-03-01 08:00:00</th>\n",
       "      <td>34</td>\n",
       "      <td>3</td>\n",
       "      <td>1</td>\n",
       "      <td>3</td>\n",
       "      <td>8</td>\n",
       "      <td>15.0</td>\n",
       "      <td>12.0</td>\n",
       "      <td>6.0</td>\n",
       "      <td>43.0</td>\n",
       "      <td>66.0</td>\n",
       "      <td>NaN</td>\n",
       "    </tr>\n",
       "    <tr>\n",
       "      <th>2018-03-01 09:00:00</th>\n",
       "      <td>69</td>\n",
       "      <td>3</td>\n",
       "      <td>1</td>\n",
       "      <td>3</td>\n",
       "      <td>9</td>\n",
       "      <td>34.0</td>\n",
       "      <td>15.0</td>\n",
       "      <td>12.0</td>\n",
       "      <td>6.0</td>\n",
       "      <td>43.0</td>\n",
       "      <td>NaN</td>\n",
       "    </tr>\n",
       "  </tbody>\n",
       "</table>\n",
       "</div>"
      ],
      "text/plain": [
       "                     num_orders  month  day  dayofweek  hour  lag_1  lag_2  \\\n",
       "datetime                                                                     \n",
       "2018-03-01 00:00:00         124      3    1          3     0    NaN    NaN   \n",
       "2018-03-01 01:00:00          85      3    1          3     1  124.0    NaN   \n",
       "2018-03-01 02:00:00          71      3    1          3     2   85.0  124.0   \n",
       "2018-03-01 03:00:00          66      3    1          3     3   71.0   85.0   \n",
       "2018-03-01 04:00:00          43      3    1          3     4   66.0   71.0   \n",
       "2018-03-01 05:00:00           6      3    1          3     5   43.0   66.0   \n",
       "2018-03-01 06:00:00          12      3    1          3     6    6.0   43.0   \n",
       "2018-03-01 07:00:00          15      3    1          3     7   12.0    6.0   \n",
       "2018-03-01 08:00:00          34      3    1          3     8   15.0   12.0   \n",
       "2018-03-01 09:00:00          69      3    1          3     9   34.0   15.0   \n",
       "\n",
       "                     lag_3  lag_4  lag_5  rolling_mean  \n",
       "datetime                                                \n",
       "2018-03-01 00:00:00    NaN    NaN    NaN           NaN  \n",
       "2018-03-01 01:00:00    NaN    NaN    NaN           NaN  \n",
       "2018-03-01 02:00:00    NaN    NaN    NaN           NaN  \n",
       "2018-03-01 03:00:00  124.0    NaN    NaN           NaN  \n",
       "2018-03-01 04:00:00   85.0  124.0    NaN           NaN  \n",
       "2018-03-01 05:00:00   71.0   85.0  124.0           NaN  \n",
       "2018-03-01 06:00:00   66.0   71.0   85.0           NaN  \n",
       "2018-03-01 07:00:00   43.0   66.0   71.0           NaN  \n",
       "2018-03-01 08:00:00    6.0   43.0   66.0           NaN  \n",
       "2018-03-01 09:00:00   12.0    6.0   43.0           NaN  "
      ]
     },
     "execution_count": 16,
     "metadata": {},
     "output_type": "execute_result"
    }
   ],
   "source": [
    "data.head(10)"
   ]
  },
  {
   "cell_type": "code",
   "execution_count": 17,
   "metadata": {},
   "outputs": [],
   "source": [
    "#Dividir en conjunto de entrenamiento y de prueba\n",
    "train, test = train_test_split(data, shuffle=False, test_size=0.1)\n",
    "train = train.dropna()"
   ]
  },
  {
   "cell_type": "code",
   "execution_count": 18,
   "metadata": {},
   "outputs": [],
   "source": [
    "#Seleccionar features y target para los dos conjuntos\n",
    "features_train = train.drop(['num_orders'], axis=1)\n",
    "target_train = train['num_orders']\n",
    "features_test = test.drop(['num_orders'], axis=1)\n",
    "target_test = test['num_orders']"
   ]
  },
  {
   "cell_type": "markdown",
   "metadata": {},
   "source": [
    "### Modelo de regresión lineal"
   ]
  },
  {
   "cell_type": "code",
   "execution_count": 19,
   "metadata": {},
   "outputs": [],
   "source": [
    "#Llamar a modelo de regresión lineal\n",
    "model_lr = LinearRegression()"
   ]
  },
  {
   "cell_type": "code",
   "execution_count": 20,
   "metadata": {},
   "outputs": [
    {
     "data": {
      "text/plain": [
       "LinearRegression()"
      ]
     },
     "execution_count": 20,
     "metadata": {},
     "output_type": "execute_result"
    }
   ],
   "source": [
    "#Realizar entrenamiento de modelo con conjunto de entrenamiento\n",
    "model_lr.fit(features_train, target_train)"
   ]
  },
  {
   "cell_type": "markdown",
   "metadata": {},
   "source": [
    "### Modelo de bosque aleatorio"
   ]
  },
  {
   "cell_type": "code",
   "execution_count": 21,
   "metadata": {},
   "outputs": [],
   "source": [
    "#Llamar a modelo de bosque aleatorio\n",
    "model_rfr = RandomForestRegressor(max_depth=10, n_estimators=10, random_state=54321)"
   ]
  },
  {
   "cell_type": "code",
   "execution_count": 22,
   "metadata": {},
   "outputs": [
    {
     "data": {
      "text/plain": [
       "RandomForestRegressor(max_depth=10, n_estimators=10, random_state=54321)"
      ]
     },
     "execution_count": 22,
     "metadata": {},
     "output_type": "execute_result"
    }
   ],
   "source": [
    "#Realizar entrenamiento de modelo con conjunto de entrenamiento\n",
    "model_rfr.fit(features_train, target_train)"
   ]
  },
  {
   "cell_type": "markdown",
   "metadata": {},
   "source": [
    "### Modelo Catboost"
   ]
  },
  {
   "cell_type": "code",
   "execution_count": 23,
   "metadata": {},
   "outputs": [],
   "source": [
    "#Definir caracteristicas categóricas\n",
    "cat_features = ['month', 'day', 'dayofweek', 'hour']"
   ]
  },
  {
   "cell_type": "code",
   "execution_count": 24,
   "metadata": {},
   "outputs": [],
   "source": [
    "#Llamar a modelo de bosque aleatorio y definir hiperparámetros.\n",
    "model_catboost = CatBoostRegressor(cat_features = cat_features, max_depth=7, learning_rate=0.5, n_estimators=200, random_seed=12345, simple_ctr='Counter')"
   ]
  },
  {
   "cell_type": "code",
   "execution_count": 25,
   "metadata": {},
   "outputs": [
    {
     "name": "stderr",
     "output_type": "stream",
     "text": [
      "Change of simpleCtr will not affect combinations ctrs.\n",
      "Change of simpleCtr will not affect combinations ctrs.\n",
      "Change of simpleCtr will not affect combinations ctrs.\n"
     ]
    },
    {
     "name": "stdout",
     "output_type": "stream",
     "text": [
      "0:\tlearn: 33.6669804\ttotal: 57.8ms\tremaining: 11.5s\n",
      "1:\tlearn: 29.0548466\ttotal: 70.2ms\tremaining: 6.95s\n",
      "2:\tlearn: 26.5374592\ttotal: 82.2ms\tremaining: 5.4s\n",
      "3:\tlearn: 24.9407845\ttotal: 94.2ms\tremaining: 4.62s\n",
      "4:\tlearn: 24.2852874\ttotal: 106ms\tremaining: 4.14s\n",
      "5:\tlearn: 23.3811054\ttotal: 116ms\tremaining: 3.75s\n",
      "6:\tlearn: 23.2431479\ttotal: 125ms\tremaining: 3.44s\n",
      "7:\tlearn: 22.9070121\ttotal: 138ms\tremaining: 3.3s\n",
      "8:\tlearn: 22.8474859\ttotal: 145ms\tremaining: 3.08s\n",
      "9:\tlearn: 22.5094457\ttotal: 156ms\tremaining: 2.97s\n",
      "10:\tlearn: 22.1668065\ttotal: 168ms\tremaining: 2.88s\n",
      "11:\tlearn: 22.0255480\ttotal: 179ms\tremaining: 2.8s\n",
      "12:\tlearn: 21.9858530\ttotal: 184ms\tremaining: 2.65s\n",
      "13:\tlearn: 21.9092583\ttotal: 194ms\tremaining: 2.57s\n",
      "14:\tlearn: 21.6404842\ttotal: 205ms\tremaining: 2.53s\n",
      "15:\tlearn: 21.5101937\ttotal: 217ms\tremaining: 2.5s\n",
      "16:\tlearn: 21.4863598\ttotal: 222ms\tremaining: 2.39s\n",
      "17:\tlearn: 21.3227314\ttotal: 231ms\tremaining: 2.33s\n",
      "18:\tlearn: 20.9231908\ttotal: 243ms\tremaining: 2.32s\n",
      "19:\tlearn: 20.8225249\ttotal: 254ms\tremaining: 2.28s\n",
      "20:\tlearn: 20.7067654\ttotal: 265ms\tremaining: 2.25s\n",
      "21:\tlearn: 20.6504437\ttotal: 273ms\tremaining: 2.21s\n",
      "22:\tlearn: 20.5220313\ttotal: 285ms\tremaining: 2.19s\n",
      "23:\tlearn: 20.3647117\ttotal: 295ms\tremaining: 2.17s\n",
      "24:\tlearn: 20.2751231\ttotal: 305ms\tremaining: 2.14s\n",
      "25:\tlearn: 20.1605740\ttotal: 316ms\tremaining: 2.11s\n",
      "26:\tlearn: 20.0575277\ttotal: 327ms\tremaining: 2.09s\n",
      "27:\tlearn: 19.8602036\ttotal: 336ms\tremaining: 2.06s\n",
      "28:\tlearn: 19.6133293\ttotal: 348ms\tremaining: 2.05s\n",
      "29:\tlearn: 19.5352021\ttotal: 360ms\tremaining: 2.04s\n",
      "30:\tlearn: 19.4450791\ttotal: 370ms\tremaining: 2.02s\n",
      "31:\tlearn: 19.3631980\ttotal: 380ms\tremaining: 2s\n",
      "32:\tlearn: 19.2213892\ttotal: 392ms\tremaining: 1.98s\n",
      "33:\tlearn: 19.0946974\ttotal: 403ms\tremaining: 1.97s\n",
      "34:\tlearn: 19.0811830\ttotal: 412ms\tremaining: 1.94s\n",
      "35:\tlearn: 18.9756150\ttotal: 423ms\tremaining: 1.93s\n",
      "36:\tlearn: 18.8567734\ttotal: 433ms\tremaining: 1.91s\n",
      "37:\tlearn: 18.5439582\ttotal: 444ms\tremaining: 1.89s\n",
      "38:\tlearn: 18.3570305\ttotal: 456ms\tremaining: 1.88s\n",
      "39:\tlearn: 18.3349079\ttotal: 466ms\tremaining: 1.86s\n",
      "40:\tlearn: 18.2481229\ttotal: 478ms\tremaining: 1.85s\n",
      "41:\tlearn: 18.1317840\ttotal: 489ms\tremaining: 1.84s\n",
      "42:\tlearn: 18.0175978\ttotal: 503ms\tremaining: 1.83s\n",
      "43:\tlearn: 18.0126818\ttotal: 513ms\tremaining: 1.82s\n",
      "44:\tlearn: 17.8516500\ttotal: 523ms\tremaining: 1.8s\n",
      "45:\tlearn: 17.7633125\ttotal: 534ms\tremaining: 1.79s\n",
      "46:\tlearn: 17.6557641\ttotal: 546ms\tremaining: 1.78s\n",
      "47:\tlearn: 17.5901347\ttotal: 557ms\tremaining: 1.76s\n",
      "48:\tlearn: 17.5764996\ttotal: 568ms\tremaining: 1.75s\n",
      "49:\tlearn: 17.4703491\ttotal: 578ms\tremaining: 1.73s\n",
      "50:\tlearn: 17.3759369\ttotal: 589ms\tremaining: 1.72s\n",
      "51:\tlearn: 17.2997214\ttotal: 600ms\tremaining: 1.71s\n",
      "52:\tlearn: 17.2128026\ttotal: 610ms\tremaining: 1.69s\n",
      "53:\tlearn: 17.1980092\ttotal: 621ms\tremaining: 1.68s\n",
      "54:\tlearn: 17.1801924\ttotal: 632ms\tremaining: 1.67s\n",
      "55:\tlearn: 17.1485685\ttotal: 642ms\tremaining: 1.65s\n",
      "56:\tlearn: 17.0800321\ttotal: 654ms\tremaining: 1.64s\n",
      "57:\tlearn: 16.9917663\ttotal: 666ms\tremaining: 1.63s\n",
      "58:\tlearn: 16.9624512\ttotal: 675ms\tremaining: 1.61s\n",
      "59:\tlearn: 16.8758237\ttotal: 687ms\tremaining: 1.6s\n",
      "60:\tlearn: 16.8248492\ttotal: 701ms\tremaining: 1.6s\n",
      "61:\tlearn: 16.7514845\ttotal: 711ms\tremaining: 1.58s\n",
      "62:\tlearn: 16.7047362\ttotal: 721ms\tremaining: 1.57s\n",
      "63:\tlearn: 16.6420187\ttotal: 732ms\tremaining: 1.55s\n",
      "64:\tlearn: 16.6176845\ttotal: 742ms\tremaining: 1.54s\n",
      "65:\tlearn: 16.4671962\ttotal: 754ms\tremaining: 1.53s\n",
      "66:\tlearn: 16.4187060\ttotal: 764ms\tremaining: 1.52s\n",
      "67:\tlearn: 16.2902508\ttotal: 776ms\tremaining: 1.51s\n",
      "68:\tlearn: 16.2459501\ttotal: 788ms\tremaining: 1.5s\n",
      "69:\tlearn: 16.2042811\ttotal: 798ms\tremaining: 1.48s\n",
      "70:\tlearn: 16.1523041\ttotal: 809ms\tremaining: 1.47s\n",
      "71:\tlearn: 16.0959291\ttotal: 819ms\tremaining: 1.46s\n",
      "72:\tlearn: 15.9620294\ttotal: 829ms\tremaining: 1.44s\n",
      "73:\tlearn: 15.9069729\ttotal: 839ms\tremaining: 1.43s\n",
      "74:\tlearn: 15.8676319\ttotal: 850ms\tremaining: 1.42s\n",
      "75:\tlearn: 15.7961506\ttotal: 862ms\tremaining: 1.41s\n",
      "76:\tlearn: 15.7750142\ttotal: 873ms\tremaining: 1.39s\n",
      "77:\tlearn: 15.7211052\ttotal: 884ms\tremaining: 1.38s\n",
      "78:\tlearn: 15.6791085\ttotal: 900ms\tremaining: 1.38s\n",
      "79:\tlearn: 15.6581626\ttotal: 911ms\tremaining: 1.36s\n",
      "80:\tlearn: 15.6263101\ttotal: 920ms\tremaining: 1.35s\n",
      "81:\tlearn: 15.5626247\ttotal: 931ms\tremaining: 1.34s\n",
      "82:\tlearn: 15.4978757\ttotal: 942ms\tremaining: 1.33s\n",
      "83:\tlearn: 15.4373250\ttotal: 953ms\tremaining: 1.32s\n",
      "84:\tlearn: 15.3999489\ttotal: 964ms\tremaining: 1.3s\n",
      "85:\tlearn: 15.3348065\ttotal: 974ms\tremaining: 1.29s\n",
      "86:\tlearn: 15.2711724\ttotal: 985ms\tremaining: 1.28s\n",
      "87:\tlearn: 15.2209220\ttotal: 997ms\tremaining: 1.27s\n",
      "88:\tlearn: 15.1644682\ttotal: 1.01s\tremaining: 1.26s\n",
      "89:\tlearn: 15.1203860\ttotal: 1.02s\tremaining: 1.25s\n",
      "90:\tlearn: 15.0679130\ttotal: 1.03s\tremaining: 1.24s\n",
      "91:\tlearn: 15.0435208\ttotal: 1.05s\tremaining: 1.23s\n",
      "92:\tlearn: 15.0403535\ttotal: 1.06s\tremaining: 1.22s\n",
      "93:\tlearn: 14.9882299\ttotal: 1.07s\tremaining: 1.21s\n",
      "94:\tlearn: 14.9598743\ttotal: 1.08s\tremaining: 1.2s\n",
      "95:\tlearn: 14.8623724\ttotal: 1.1s\tremaining: 1.19s\n",
      "96:\tlearn: 14.8241234\ttotal: 1.11s\tremaining: 1.18s\n",
      "97:\tlearn: 14.7640459\ttotal: 1.12s\tremaining: 1.16s\n",
      "98:\tlearn: 14.7013245\ttotal: 1.13s\tremaining: 1.15s\n",
      "99:\tlearn: 14.6793557\ttotal: 1.14s\tremaining: 1.14s\n",
      "100:\tlearn: 14.6320460\ttotal: 1.15s\tremaining: 1.13s\n",
      "101:\tlearn: 14.5453644\ttotal: 1.16s\tremaining: 1.11s\n",
      "102:\tlearn: 14.5211964\ttotal: 1.17s\tremaining: 1.1s\n",
      "103:\tlearn: 14.4276825\ttotal: 1.18s\tremaining: 1.09s\n",
      "104:\tlearn: 14.3572307\ttotal: 1.2s\tremaining: 1.08s\n",
      "105:\tlearn: 14.2633860\ttotal: 1.21s\tremaining: 1.07s\n",
      "106:\tlearn: 14.1918734\ttotal: 1.22s\tremaining: 1.06s\n",
      "107:\tlearn: 14.1282575\ttotal: 1.23s\tremaining: 1.04s\n",
      "108:\tlearn: 14.0187745\ttotal: 1.24s\tremaining: 1.03s\n",
      "109:\tlearn: 14.0164920\ttotal: 1.25s\tremaining: 1.02s\n",
      "110:\tlearn: 13.9975509\ttotal: 1.26s\tremaining: 1.01s\n",
      "111:\tlearn: 13.9295183\ttotal: 1.27s\tremaining: 998ms\n",
      "112:\tlearn: 13.8956520\ttotal: 1.28s\tremaining: 987ms\n",
      "113:\tlearn: 13.8267988\ttotal: 1.29s\tremaining: 976ms\n",
      "114:\tlearn: 13.7948115\ttotal: 1.3s\tremaining: 963ms\n",
      "115:\tlearn: 13.7342811\ttotal: 1.31s\tremaining: 950ms\n",
      "116:\tlearn: 13.6787291\ttotal: 1.32s\tremaining: 939ms\n",
      "117:\tlearn: 13.6050985\ttotal: 1.33s\tremaining: 927ms\n",
      "118:\tlearn: 13.5538791\ttotal: 1.35s\tremaining: 916ms\n",
      "119:\tlearn: 13.4496333\ttotal: 1.36s\tremaining: 905ms\n",
      "120:\tlearn: 13.4050327\ttotal: 1.37s\tremaining: 893ms\n",
      "121:\tlearn: 13.3451496\ttotal: 1.38s\tremaining: 882ms\n",
      "122:\tlearn: 13.2909826\ttotal: 1.39s\tremaining: 870ms\n",
      "123:\tlearn: 13.2702567\ttotal: 1.4s\tremaining: 859ms\n",
      "124:\tlearn: 13.1963175\ttotal: 1.41s\tremaining: 847ms\n",
      "125:\tlearn: 13.1753297\ttotal: 1.42s\tremaining: 836ms\n",
      "126:\tlearn: 13.1506396\ttotal: 1.44s\tremaining: 825ms\n",
      "127:\tlearn: 13.0855991\ttotal: 1.45s\tremaining: 813ms\n",
      "128:\tlearn: 13.0764772\ttotal: 1.45s\tremaining: 801ms\n",
      "129:\tlearn: 13.0509776\ttotal: 1.46s\tremaining: 789ms\n",
      "130:\tlearn: 13.0078776\ttotal: 1.47s\tremaining: 777ms\n",
      "131:\tlearn: 12.9930793\ttotal: 1.49s\tremaining: 767ms\n",
      "132:\tlearn: 12.9650470\ttotal: 1.5s\tremaining: 756ms\n",
      "133:\tlearn: 12.9204884\ttotal: 1.51s\tremaining: 745ms\n",
      "134:\tlearn: 12.8739705\ttotal: 1.52s\tremaining: 733ms\n",
      "135:\tlearn: 12.8689039\ttotal: 1.53s\tremaining: 721ms\n",
      "136:\tlearn: 12.7961902\ttotal: 1.54s\tremaining: 710ms\n",
      "137:\tlearn: 12.7542538\ttotal: 1.56s\tremaining: 699ms\n",
      "138:\tlearn: 12.6983724\ttotal: 1.57s\tremaining: 688ms\n",
      "139:\tlearn: 12.6975374\ttotal: 1.58s\tremaining: 676ms\n",
      "140:\tlearn: 12.6441016\ttotal: 1.59s\tremaining: 664ms\n",
      "141:\tlearn: 12.5306813\ttotal: 1.6s\tremaining: 653ms\n",
      "142:\tlearn: 12.4900497\ttotal: 1.61s\tremaining: 642ms\n",
      "143:\tlearn: 12.4452192\ttotal: 1.62s\tremaining: 631ms\n",
      "144:\tlearn: 12.4360690\ttotal: 1.63s\tremaining: 620ms\n",
      "145:\tlearn: 12.4097242\ttotal: 1.64s\tremaining: 608ms\n",
      "146:\tlearn: 12.3713680\ttotal: 1.66s\tremaining: 597ms\n",
      "147:\tlearn: 12.3438514\ttotal: 1.66s\tremaining: 585ms\n",
      "148:\tlearn: 12.3321806\ttotal: 1.67s\tremaining: 573ms\n",
      "149:\tlearn: 12.3102484\ttotal: 1.68s\tremaining: 561ms\n",
      "150:\tlearn: 12.2726278\ttotal: 1.69s\tremaining: 550ms\n",
      "151:\tlearn: 12.2561716\ttotal: 1.7s\tremaining: 538ms\n",
      "152:\tlearn: 12.1913121\ttotal: 1.72s\tremaining: 527ms\n",
      "153:\tlearn: 12.1472559\ttotal: 1.73s\tremaining: 516ms\n",
      "154:\tlearn: 12.1050745\ttotal: 1.74s\tremaining: 505ms\n",
      "155:\tlearn: 12.0857477\ttotal: 1.75s\tremaining: 493ms\n",
      "156:\tlearn: 12.0744370\ttotal: 1.76s\tremaining: 482ms\n",
      "157:\tlearn: 12.0543946\ttotal: 1.77s\tremaining: 471ms\n",
      "158:\tlearn: 12.0133367\ttotal: 1.78s\tremaining: 460ms\n",
      "159:\tlearn: 11.9920754\ttotal: 1.79s\tremaining: 449ms\n",
      "160:\tlearn: 11.9665258\ttotal: 1.81s\tremaining: 438ms\n",
      "161:\tlearn: 11.9229727\ttotal: 1.82s\tremaining: 426ms\n",
      "162:\tlearn: 11.8630461\ttotal: 1.83s\tremaining: 415ms\n",
      "163:\tlearn: 11.8537721\ttotal: 1.84s\tremaining: 404ms\n",
      "164:\tlearn: 11.8162983\ttotal: 1.85s\tremaining: 393ms\n",
      "165:\tlearn: 11.7850305\ttotal: 1.86s\tremaining: 381ms\n",
      "166:\tlearn: 11.7577329\ttotal: 1.87s\tremaining: 370ms\n",
      "167:\tlearn: 11.7367728\ttotal: 1.88s\tremaining: 359ms\n"
     ]
    },
    {
     "name": "stdout",
     "output_type": "stream",
     "text": [
      "168:\tlearn: 11.7272528\ttotal: 1.89s\tremaining: 347ms\n",
      "169:\tlearn: 11.6936100\ttotal: 1.9s\tremaining: 336ms\n",
      "170:\tlearn: 11.6531150\ttotal: 1.92s\tremaining: 325ms\n",
      "171:\tlearn: 11.6207701\ttotal: 1.93s\tremaining: 314ms\n",
      "172:\tlearn: 11.5722015\ttotal: 1.94s\tremaining: 303ms\n",
      "173:\tlearn: 11.5442377\ttotal: 1.95s\tremaining: 292ms\n",
      "174:\tlearn: 11.4942952\ttotal: 1.96s\tremaining: 280ms\n",
      "175:\tlearn: 11.4779817\ttotal: 1.97s\tremaining: 269ms\n",
      "176:\tlearn: 11.4608280\ttotal: 1.99s\tremaining: 258ms\n",
      "177:\tlearn: 11.4317431\ttotal: 2s\tremaining: 247ms\n",
      "178:\tlearn: 11.4004631\ttotal: 2.01s\tremaining: 236ms\n",
      "179:\tlearn: 11.3839588\ttotal: 2.02s\tremaining: 224ms\n",
      "180:\tlearn: 11.3513035\ttotal: 2.03s\tremaining: 213ms\n",
      "181:\tlearn: 11.3376273\ttotal: 2.04s\tremaining: 202ms\n",
      "182:\tlearn: 11.3114826\ttotal: 2.05s\tremaining: 191ms\n",
      "183:\tlearn: 11.2974550\ttotal: 2.06s\tremaining: 179ms\n",
      "184:\tlearn: 11.2913270\ttotal: 2.07s\tremaining: 168ms\n",
      "185:\tlearn: 11.2434666\ttotal: 2.08s\tremaining: 157ms\n",
      "186:\tlearn: 11.1776745\ttotal: 2.1s\tremaining: 146ms\n",
      "187:\tlearn: 11.1641552\ttotal: 2.11s\tremaining: 135ms\n",
      "188:\tlearn: 11.1252409\ttotal: 2.13s\tremaining: 124ms\n",
      "189:\tlearn: 11.1003871\ttotal: 2.14s\tremaining: 113ms\n",
      "190:\tlearn: 11.0396488\ttotal: 2.15s\tremaining: 101ms\n",
      "191:\tlearn: 11.0043785\ttotal: 2.16s\tremaining: 90.1ms\n",
      "192:\tlearn: 11.0040954\ttotal: 2.17s\tremaining: 78.8ms\n",
      "193:\tlearn: 10.9576303\ttotal: 2.19s\tremaining: 67.7ms\n",
      "194:\tlearn: 10.9233901\ttotal: 2.2s\tremaining: 56.4ms\n",
      "195:\tlearn: 10.9069890\ttotal: 2.21s\tremaining: 45.1ms\n",
      "196:\tlearn: 10.8711593\ttotal: 2.22s\tremaining: 33.9ms\n",
      "197:\tlearn: 10.8498250\ttotal: 2.23s\tremaining: 22.6ms\n",
      "198:\tlearn: 10.8174824\ttotal: 2.24s\tremaining: 11.3ms\n",
      "199:\tlearn: 10.8103994\ttotal: 2.25s\tremaining: 0us\n"
     ]
    },
    {
     "data": {
      "text/plain": [
       "<catboost.core.CatBoostRegressor at 0x7f542356e340>"
      ]
     },
     "execution_count": 25,
     "metadata": {},
     "output_type": "execute_result"
    }
   ],
   "source": [
    "#Realizar entrenamiento de modelo con conjunto de entrenamiento\n",
    "model_catboost.fit(features_train, target_train)"
   ]
  },
  {
   "cell_type": "markdown",
   "metadata": {},
   "source": [
    "## Prueba"
   ]
  },
  {
   "cell_type": "markdown",
   "metadata": {},
   "source": [
    "### Prueba de modelo de regresión lineal"
   ]
  },
  {
   "cell_type": "code",
   "execution_count": 26,
   "metadata": {},
   "outputs": [],
   "source": [
    "#Realizar predicciones del conjunto de prueba\n",
    "pred_test_lr = model_lr.predict(features_test)"
   ]
  },
  {
   "cell_type": "code",
   "execution_count": 27,
   "metadata": {},
   "outputs": [
    {
     "name": "stdout",
     "output_type": "stream",
     "text": [
      "RECM para el conjunto de prueba: 53.1002280636477\n"
     ]
    }
   ],
   "source": [
    "#Calcular RECM para el conjunto de prueba\n",
    "print(\"RECM para el conjunto de prueba:\", mean_squared_error(target_test, pred_test_lr) ** 0.5)"
   ]
  },
  {
   "cell_type": "markdown",
   "metadata": {},
   "source": [
    "### Prueba de modelo de bosque aleatorio"
   ]
  },
  {
   "cell_type": "code",
   "execution_count": 28,
   "metadata": {},
   "outputs": [],
   "source": [
    "#Realizar predicciones del conjunto de prueba\n",
    "pred_test_rfr = model_rfr.predict(features_test)"
   ]
  },
  {
   "cell_type": "code",
   "execution_count": 29,
   "metadata": {},
   "outputs": [
    {
     "name": "stdout",
     "output_type": "stream",
     "text": [
      "RECM para el conjunto de prueba: 44.748984108264914\n"
     ]
    }
   ],
   "source": [
    "#Calcular RECM para el conjunto de prueba\n",
    "print(\"RECM para el conjunto de prueba:\", mean_squared_error(target_test, pred_test_rfr) ** 0.5)"
   ]
  },
  {
   "cell_type": "markdown",
   "metadata": {},
   "source": [
    "### Prueba modelo catboost"
   ]
  },
  {
   "cell_type": "code",
   "execution_count": 30,
   "metadata": {},
   "outputs": [],
   "source": [
    "#Realizar predicciones del conjunto de prueba\n",
    "pred_test_ctbt = model_catboost.predict(features_test)"
   ]
  },
  {
   "cell_type": "code",
   "execution_count": 31,
   "metadata": {},
   "outputs": [
    {
     "name": "stdout",
     "output_type": "stream",
     "text": [
      "RECM para el conjunto de prueba: 42.71231473792277\n"
     ]
    }
   ],
   "source": [
    "#Calcular RECM para el conjunto de prueba\n",
    "print(\"RECM para el conjunto de prueba:\", mean_squared_error(target_test, pred_test_ctbt) ** 0.5)"
   ]
  },
  {
   "cell_type": "markdown",
   "metadata": {},
   "source": [
    "## Conclusión"
   ]
  },
  {
   "cell_type": "markdown",
   "metadata": {},
   "source": [
    "Este proyecto se enfocó en la realización de predicciones de series temporales. Se remuestrearon los datos por periodos de 1 hora ya que el objetivo del proyecto es poder predecir la cantidad de ordenes de taxis para la siguiente hora.\n",
    "En el análsis de los datos de encontró un patrón que se repite diariamente.\n",
    "Se probaron 3 modelos diferentes para realizar las predicciones, regresión lineal, bosque aleatorio y potenciacion de gradiente catboost. El método de regresión lineal no consiguió el objetivo de RECM menor a 48, en los otros dos modelos si se logró el objetivo y el mejor modelo con un RECM de 42.7 fue el de potenciación de gradiente catboost."
   ]
  },
  {
   "cell_type": "markdown",
   "metadata": {},
   "source": [
    "# Lista de revisión"
   ]
  },
  {
   "cell_type": "markdown",
   "metadata": {},
   "source": [
    "- [x]  \t\n",
    "Jupyter Notebook está abierto.\n",
    "- [x]  El código no tiene errores\n",
    "- [x]  Las celdas con el código han sido colocadas en el orden de ejecución.\n",
    "- [x]  Los datos han sido descargados y preparados.\n",
    "- [x]  Se ha realizado el paso 2: los datos han sido analizados\n",
    "- [x]  Se entrenó el modelo y se seleccionaron los hiperparámetros\n",
    "- [x]  Se han evaluado los modelos. Se expuso una conclusión\n",
    "- [x] La *RECM* para el conjunto de prueba no es más de 48"
   ]
  },
  {
   "cell_type": "code",
   "execution_count": null,
   "metadata": {},
   "outputs": [],
   "source": []
  }
 ],
 "metadata": {
  "ExecuteTimeLog": [
   {
    "duration": 345,
    "start_time": "2024-07-07T22:27:54.256Z"
   },
   {
    "duration": 532,
    "start_time": "2024-07-07T22:27:58.717Z"
   },
   {
    "duration": 50,
    "start_time": "2024-07-07T22:27:59.255Z"
   },
   {
    "duration": 24,
    "start_time": "2024-07-07T22:33:01.749Z"
   },
   {
    "duration": 23,
    "start_time": "2024-07-07T22:33:26.640Z"
   },
   {
    "duration": 33,
    "start_time": "2024-07-07T22:33:34.677Z"
   },
   {
    "duration": 28,
    "start_time": "2024-07-07T22:34:13.303Z"
   },
   {
    "duration": 28,
    "start_time": "2024-07-07T22:35:18.502Z"
   },
   {
    "duration": 17,
    "start_time": "2024-07-07T22:35:41.888Z"
   },
   {
    "duration": 12,
    "start_time": "2024-07-07T22:35:50.899Z"
   },
   {
    "duration": 17,
    "start_time": "2024-07-07T22:35:51.491Z"
   },
   {
    "duration": 531,
    "start_time": "2024-07-07T22:35:58.315Z"
   },
   {
    "duration": 32,
    "start_time": "2024-07-07T22:35:58.851Z"
   },
   {
    "duration": 38,
    "start_time": "2024-07-07T22:35:58.886Z"
   },
   {
    "duration": 19,
    "start_time": "2024-07-07T22:35:58.928Z"
   },
   {
    "duration": 12,
    "start_time": "2024-07-07T22:35:58.951Z"
   },
   {
    "duration": 46,
    "start_time": "2024-07-07T22:35:58.967Z"
   },
   {
    "duration": 14,
    "start_time": "2024-07-07T22:36:30.277Z"
   },
   {
    "duration": 348,
    "start_time": "2024-07-07T22:37:03.216Z"
   },
   {
    "duration": 15,
    "start_time": "2024-07-07T22:37:03.648Z"
   },
   {
    "duration": 26,
    "start_time": "2024-07-07T22:37:15.934Z"
   },
   {
    "duration": 43,
    "start_time": "2024-07-07T22:37:30.376Z"
   },
   {
    "duration": 15,
    "start_time": "2024-07-07T22:37:31.059Z"
   },
   {
    "duration": 11,
    "start_time": "2024-07-07T22:37:31.418Z"
   },
   {
    "duration": 880,
    "start_time": "2024-07-07T22:37:32.210Z"
   },
   {
    "duration": 35,
    "start_time": "2024-07-07T22:38:09.721Z"
   },
   {
    "duration": 25,
    "start_time": "2024-07-07T22:38:10.114Z"
   },
   {
    "duration": 15,
    "start_time": "2024-07-07T22:38:10.544Z"
   },
   {
    "duration": 533,
    "start_time": "2024-07-07T22:38:16.320Z"
   },
   {
    "duration": 25,
    "start_time": "2024-07-07T22:38:16.858Z"
   },
   {
    "duration": 43,
    "start_time": "2024-07-07T22:38:16.886Z"
   },
   {
    "duration": 23,
    "start_time": "2024-07-07T22:38:16.934Z"
   },
   {
    "duration": 43,
    "start_time": "2024-07-07T22:38:16.961Z"
   },
   {
    "duration": 31,
    "start_time": "2024-07-07T22:38:17.008Z"
   },
   {
    "duration": 13,
    "start_time": "2024-07-07T22:39:27.047Z"
   },
   {
    "duration": 5,
    "start_time": "2024-07-07T22:41:52.053Z"
   },
   {
    "duration": 16,
    "start_time": "2024-07-07T22:42:21.265Z"
   },
   {
    "duration": 4,
    "start_time": "2024-07-07T22:42:36.630Z"
   },
   {
    "duration": 1018,
    "start_time": "2024-07-07T22:44:04.633Z"
   },
   {
    "duration": 57,
    "start_time": "2024-07-07T22:44:31.081Z"
   },
   {
    "duration": 15,
    "start_time": "2024-07-07T22:45:20.881Z"
   },
   {
    "duration": 511,
    "start_time": "2024-07-07T22:45:30.335Z"
   },
   {
    "duration": 26,
    "start_time": "2024-07-07T22:45:30.850Z"
   },
   {
    "duration": 35,
    "start_time": "2024-07-07T22:45:30.880Z"
   },
   {
    "duration": 21,
    "start_time": "2024-07-07T22:45:30.919Z"
   },
   {
    "duration": 15,
    "start_time": "2024-07-07T22:45:30.945Z"
   },
   {
    "duration": 54,
    "start_time": "2024-07-07T22:45:30.963Z"
   },
   {
    "duration": 18,
    "start_time": "2024-07-07T22:45:31.021Z"
   },
   {
    "duration": 17,
    "start_time": "2024-07-07T22:45:31.043Z"
   },
   {
    "duration": 42,
    "start_time": "2024-07-07T22:45:31.064Z"
   },
   {
    "duration": 1091,
    "start_time": "2024-07-07T22:45:31.110Z"
   },
   {
    "duration": 16,
    "start_time": "2024-07-07T22:46:41.626Z"
   },
   {
    "duration": 17,
    "start_time": "2024-07-07T22:46:44.851Z"
   },
   {
    "duration": 5,
    "start_time": "2024-07-07T22:50:30.039Z"
   },
   {
    "duration": 15,
    "start_time": "2024-07-07T22:50:31.681Z"
   },
   {
    "duration": 4,
    "start_time": "2024-07-07T22:50:33.592Z"
   },
   {
    "duration": 9,
    "start_time": "2024-07-07T22:50:36.777Z"
   },
   {
    "duration": 25,
    "start_time": "2024-07-07T22:51:25.664Z"
   },
   {
    "duration": 9,
    "start_time": "2024-07-07T22:52:06.991Z"
   },
   {
    "duration": 14,
    "start_time": "2024-07-07T22:52:07.790Z"
   },
   {
    "duration": 4905,
    "start_time": "2024-07-07T22:53:38.949Z"
   },
   {
    "duration": 9,
    "start_time": "2024-07-07T22:55:07.548Z"
   },
   {
    "duration": 441,
    "start_time": "2024-07-07T22:55:08.220Z"
   },
   {
    "duration": 356,
    "start_time": "2024-07-07T22:59:17.506Z"
   },
   {
    "duration": 391,
    "start_time": "2024-07-07T22:59:55.053Z"
   },
   {
    "duration": 7,
    "start_time": "2024-07-07T23:34:53.542Z"
   },
   {
    "duration": 414,
    "start_time": "2024-07-07T23:35:04.700Z"
   },
   {
    "duration": 6,
    "start_time": "2024-07-07T23:35:16.045Z"
   },
   {
    "duration": 400,
    "start_time": "2024-07-07T23:35:19.538Z"
   },
   {
    "duration": 6,
    "start_time": "2024-07-07T23:35:31.168Z"
   },
   {
    "duration": 373,
    "start_time": "2024-07-07T23:35:33.085Z"
   },
   {
    "duration": 6,
    "start_time": "2024-07-07T23:36:17.862Z"
   },
   {
    "duration": 473,
    "start_time": "2024-07-07T23:36:18.197Z"
   },
   {
    "duration": 563,
    "start_time": "2024-07-07T23:38:39.269Z"
   },
   {
    "duration": 134,
    "start_time": "2024-07-07T23:38:53.769Z"
   },
   {
    "duration": 29,
    "start_time": "2024-07-07T23:39:38.219Z"
   },
   {
    "duration": 31,
    "start_time": "2024-07-07T23:40:19.242Z"
   },
   {
    "duration": 9,
    "start_time": "2024-07-07T23:40:25.809Z"
   },
   {
    "duration": 25,
    "start_time": "2024-07-07T23:41:08.885Z"
   },
   {
    "duration": 3,
    "start_time": "2024-07-07T23:41:22.218Z"
   },
   {
    "duration": 318,
    "start_time": "2024-07-07T23:41:26.033Z"
   },
   {
    "duration": 1112,
    "start_time": "2024-07-07T23:42:14.106Z"
   },
   {
    "duration": 945,
    "start_time": "2024-07-07T23:43:50.345Z"
   },
   {
    "duration": 909,
    "start_time": "2024-07-07T23:44:06.358Z"
   },
   {
    "duration": 886,
    "start_time": "2024-07-07T23:44:15.333Z"
   },
   {
    "duration": 733,
    "start_time": "2024-07-07T23:44:38.768Z"
   },
   {
    "duration": 599,
    "start_time": "2024-07-07T23:44:46.898Z"
   },
   {
    "duration": 822,
    "start_time": "2024-07-07T23:45:11.855Z"
   },
   {
    "duration": 747,
    "start_time": "2024-07-07T23:45:21.539Z"
   },
   {
    "duration": 625,
    "start_time": "2024-07-07T23:45:29.822Z"
   },
   {
    "duration": 685,
    "start_time": "2024-07-07T23:45:33.406Z"
   },
   {
    "duration": 10,
    "start_time": "2024-07-07T23:47:38.262Z"
   },
   {
    "duration": 737,
    "start_time": "2024-07-07T23:49:11.312Z"
   },
   {
    "duration": 712,
    "start_time": "2024-07-07T23:49:20.529Z"
   },
   {
    "duration": 1262,
    "start_time": "2024-07-08T00:06:04.111Z"
   },
   {
    "duration": 35,
    "start_time": "2024-07-08T00:06:05.377Z"
   },
   {
    "duration": 17,
    "start_time": "2024-07-08T00:06:05.415Z"
   },
   {
    "duration": 14,
    "start_time": "2024-07-08T00:06:05.437Z"
   },
   {
    "duration": 48,
    "start_time": "2024-07-08T00:06:05.454Z"
   },
   {
    "duration": 14,
    "start_time": "2024-07-08T00:06:05.505Z"
   },
   {
    "duration": 5,
    "start_time": "2024-07-08T00:06:05.522Z"
   },
   {
    "duration": 14,
    "start_time": "2024-07-08T00:06:05.531Z"
   },
   {
    "duration": 5,
    "start_time": "2024-07-08T00:06:05.549Z"
   },
   {
    "duration": 11,
    "start_time": "2024-07-08T00:06:05.603Z"
   },
   {
    "duration": 430,
    "start_time": "2024-07-08T00:06:05.617Z"
   },
   {
    "duration": 10,
    "start_time": "2024-07-08T00:06:06.051Z"
   },
   {
    "duration": 763,
    "start_time": "2024-07-08T00:06:06.063Z"
   },
   {
    "duration": 7,
    "start_time": "2024-07-08T00:06:06.830Z"
   },
   {
    "duration": 5,
    "start_time": "2024-07-08T00:08:37.586Z"
   },
   {
    "duration": 1331,
    "start_time": "2024-07-08T00:09:50.833Z"
   },
   {
    "duration": 6,
    "start_time": "2024-07-08T00:10:08.283Z"
   },
   {
    "duration": 13,
    "start_time": "2024-07-08T00:10:08.755Z"
   },
   {
    "duration": 25,
    "start_time": "2024-07-08T00:10:28.366Z"
   },
   {
    "duration": 23,
    "start_time": "2024-07-08T00:10:40.452Z"
   },
   {
    "duration": 20,
    "start_time": "2024-07-08T00:10:44.328Z"
   },
   {
    "duration": 23,
    "start_time": "2024-07-08T00:10:56.039Z"
   },
   {
    "duration": 9,
    "start_time": "2024-07-08T00:11:16.221Z"
   },
   {
    "duration": 23,
    "start_time": "2024-07-08T00:11:16.634Z"
   },
   {
    "duration": 10,
    "start_time": "2024-07-08T00:11:38.508Z"
   },
   {
    "duration": 24,
    "start_time": "2024-07-08T00:11:40.737Z"
   },
   {
    "duration": 25,
    "start_time": "2024-07-08T00:12:39.446Z"
   },
   {
    "duration": 230,
    "start_time": "2024-07-08T00:12:54.687Z"
   },
   {
    "duration": 7,
    "start_time": "2024-07-08T00:12:59.010Z"
   },
   {
    "duration": 11,
    "start_time": "2024-07-08T00:13:25.147Z"
   },
   {
    "duration": 7,
    "start_time": "2024-07-08T00:14:41.007Z"
   },
   {
    "duration": 37,
    "start_time": "2024-07-08T00:17:41.338Z"
   },
   {
    "duration": 28,
    "start_time": "2024-07-08T00:17:44.972Z"
   },
   {
    "duration": 30,
    "start_time": "2024-07-08T00:18:02.289Z"
   },
   {
    "duration": 5,
    "start_time": "2024-07-08T00:18:37.007Z"
   },
   {
    "duration": 22,
    "start_time": "2024-07-08T00:18:42.894Z"
   },
   {
    "duration": 6,
    "start_time": "2024-07-08T00:18:48.579Z"
   },
   {
    "duration": 5,
    "start_time": "2024-07-08T00:19:39.766Z"
   },
   {
    "duration": 10,
    "start_time": "2024-07-08T00:20:27.397Z"
   },
   {
    "duration": 24,
    "start_time": "2024-07-08T00:20:27.974Z"
   },
   {
    "duration": 8,
    "start_time": "2024-07-08T00:20:29.275Z"
   },
   {
    "duration": 7,
    "start_time": "2024-07-08T00:20:29.831Z"
   },
   {
    "duration": 11,
    "start_time": "2024-07-08T00:20:30.677Z"
   },
   {
    "duration": 7,
    "start_time": "2024-07-08T00:20:31.908Z"
   },
   {
    "duration": 6,
    "start_time": "2024-07-08T00:20:32.401Z"
   },
   {
    "duration": 9,
    "start_time": "2024-07-08T00:20:43.038Z"
   },
   {
    "duration": 9,
    "start_time": "2024-07-08T00:20:43.638Z"
   },
   {
    "duration": 23,
    "start_time": "2024-07-08T00:20:44.269Z"
   },
   {
    "duration": 11,
    "start_time": "2024-07-08T00:20:47.182Z"
   },
   {
    "duration": 6,
    "start_time": "2024-07-08T00:20:48.043Z"
   },
   {
    "duration": 12,
    "start_time": "2024-07-08T00:20:48.523Z"
   },
   {
    "duration": 7,
    "start_time": "2024-07-08T00:20:49.102Z"
   },
   {
    "duration": 5,
    "start_time": "2024-07-08T00:20:49.645Z"
   },
   {
    "duration": 6,
    "start_time": "2024-07-08T00:21:02.080Z"
   },
   {
    "duration": 9,
    "start_time": "2024-07-08T00:21:02.508Z"
   },
   {
    "duration": 23,
    "start_time": "2024-07-08T00:21:03.001Z"
   },
   {
    "duration": 1528,
    "start_time": "2024-07-08T00:21:07.994Z"
   },
   {
    "duration": 26,
    "start_time": "2024-07-08T00:21:09.526Z"
   },
   {
    "duration": 18,
    "start_time": "2024-07-08T00:21:09.554Z"
   },
   {
    "duration": 39,
    "start_time": "2024-07-08T00:21:09.575Z"
   },
   {
    "duration": 12,
    "start_time": "2024-07-08T00:21:09.620Z"
   },
   {
    "duration": 13,
    "start_time": "2024-07-08T00:21:09.636Z"
   },
   {
    "duration": 5,
    "start_time": "2024-07-08T00:21:09.652Z"
   },
   {
    "duration": 17,
    "start_time": "2024-07-08T00:21:09.703Z"
   },
   {
    "duration": 5,
    "start_time": "2024-07-08T00:21:09.723Z"
   },
   {
    "duration": 12,
    "start_time": "2024-07-08T00:21:09.732Z"
   },
   {
    "duration": 474,
    "start_time": "2024-07-08T00:21:09.746Z"
   },
   {
    "duration": 11,
    "start_time": "2024-07-08T00:21:10.223Z"
   },
   {
    "duration": 788,
    "start_time": "2024-07-08T00:21:10.238Z"
   },
   {
    "duration": 6,
    "start_time": "2024-07-08T00:21:11.032Z"
   },
   {
    "duration": 14,
    "start_time": "2024-07-08T00:21:11.041Z"
   },
   {
    "duration": 19,
    "start_time": "2024-07-08T00:21:11.058Z"
   },
   {
    "duration": 29,
    "start_time": "2024-07-08T00:21:11.080Z"
   },
   {
    "duration": 7,
    "start_time": "2024-07-08T00:21:11.113Z"
   },
   {
    "duration": 12,
    "start_time": "2024-07-08T00:21:11.123Z"
   },
   {
    "duration": 7,
    "start_time": "2024-07-08T00:21:11.137Z"
   },
   {
    "duration": 58,
    "start_time": "2024-07-08T00:21:11.147Z"
   },
   {
    "duration": 14,
    "start_time": "2024-07-08T00:21:33.352Z"
   },
   {
    "duration": 34,
    "start_time": "2024-07-08T00:21:33.840Z"
   },
   {
    "duration": 1481,
    "start_time": "2024-07-08T00:21:39.897Z"
   },
   {
    "duration": 34,
    "start_time": "2024-07-08T00:21:41.381Z"
   },
   {
    "duration": 17,
    "start_time": "2024-07-08T00:21:41.418Z"
   },
   {
    "duration": 15,
    "start_time": "2024-07-08T00:21:41.439Z"
   },
   {
    "duration": 43,
    "start_time": "2024-07-08T00:21:41.458Z"
   },
   {
    "duration": 17,
    "start_time": "2024-07-08T00:21:41.504Z"
   },
   {
    "duration": 5,
    "start_time": "2024-07-08T00:21:41.525Z"
   },
   {
    "duration": 16,
    "start_time": "2024-07-08T00:21:41.534Z"
   },
   {
    "duration": 50,
    "start_time": "2024-07-08T00:21:41.553Z"
   },
   {
    "duration": 13,
    "start_time": "2024-07-08T00:21:41.607Z"
   },
   {
    "duration": 462,
    "start_time": "2024-07-08T00:21:41.624Z"
   },
   {
    "duration": 17,
    "start_time": "2024-07-08T00:21:42.092Z"
   },
   {
    "duration": 799,
    "start_time": "2024-07-08T00:21:42.112Z"
   },
   {
    "duration": 7,
    "start_time": "2024-07-08T00:21:42.917Z"
   },
   {
    "duration": 18,
    "start_time": "2024-07-08T00:21:42.927Z"
   },
   {
    "duration": 53,
    "start_time": "2024-07-08T00:21:42.948Z"
   },
   {
    "duration": 11,
    "start_time": "2024-07-08T00:21:43.004Z"
   },
   {
    "duration": 7,
    "start_time": "2024-07-08T00:21:43.018Z"
   },
   {
    "duration": 15,
    "start_time": "2024-07-08T00:21:43.028Z"
   },
   {
    "duration": 10,
    "start_time": "2024-07-08T00:21:43.102Z"
   },
   {
    "duration": 7,
    "start_time": "2024-07-08T00:21:43.118Z"
   },
   {
    "duration": 8,
    "start_time": "2024-07-08T00:21:54.180Z"
   },
   {
    "duration": 1501,
    "start_time": "2024-07-08T00:21:59.113Z"
   },
   {
    "duration": 27,
    "start_time": "2024-07-08T00:22:00.619Z"
   },
   {
    "duration": 17,
    "start_time": "2024-07-08T00:22:00.649Z"
   },
   {
    "duration": 43,
    "start_time": "2024-07-08T00:22:00.670Z"
   },
   {
    "duration": 12,
    "start_time": "2024-07-08T00:22:00.719Z"
   },
   {
    "duration": 15,
    "start_time": "2024-07-08T00:22:00.734Z"
   },
   {
    "duration": 5,
    "start_time": "2024-07-08T00:22:00.751Z"
   },
   {
    "duration": 56,
    "start_time": "2024-07-08T00:22:00.759Z"
   },
   {
    "duration": 5,
    "start_time": "2024-07-08T00:22:00.818Z"
   },
   {
    "duration": 12,
    "start_time": "2024-07-08T00:22:00.826Z"
   },
   {
    "duration": 470,
    "start_time": "2024-07-08T00:22:00.841Z"
   },
   {
    "duration": 10,
    "start_time": "2024-07-08T00:22:01.314Z"
   },
   {
    "duration": 795,
    "start_time": "2024-07-08T00:22:01.327Z"
   },
   {
    "duration": 8,
    "start_time": "2024-07-08T00:22:02.129Z"
   },
   {
    "duration": 15,
    "start_time": "2024-07-08T00:22:02.141Z"
   },
   {
    "duration": 22,
    "start_time": "2024-07-08T00:22:02.159Z"
   },
   {
    "duration": 29,
    "start_time": "2024-07-08T00:22:02.183Z"
   },
   {
    "duration": 8,
    "start_time": "2024-07-08T00:22:02.214Z"
   },
   {
    "duration": 16,
    "start_time": "2024-07-08T00:22:02.225Z"
   },
   {
    "duration": 7,
    "start_time": "2024-07-08T00:22:02.301Z"
   },
   {
    "duration": 6,
    "start_time": "2024-07-08T00:22:02.312Z"
   },
   {
    "duration": 11,
    "start_time": "2024-07-08T00:22:16.577Z"
   },
   {
    "duration": 1678,
    "start_time": "2024-07-08T00:22:20.806Z"
   },
   {
    "duration": 39,
    "start_time": "2024-07-08T00:22:22.489Z"
   },
   {
    "duration": 19,
    "start_time": "2024-07-08T00:22:22.531Z"
   },
   {
    "duration": 48,
    "start_time": "2024-07-08T00:22:22.554Z"
   },
   {
    "duration": 13,
    "start_time": "2024-07-08T00:22:22.605Z"
   },
   {
    "duration": 17,
    "start_time": "2024-07-08T00:22:22.621Z"
   },
   {
    "duration": 6,
    "start_time": "2024-07-08T00:22:22.642Z"
   },
   {
    "duration": 17,
    "start_time": "2024-07-08T00:22:22.651Z"
   },
   {
    "duration": 32,
    "start_time": "2024-07-08T00:22:22.671Z"
   },
   {
    "duration": 12,
    "start_time": "2024-07-08T00:22:22.710Z"
   },
   {
    "duration": 567,
    "start_time": "2024-07-08T00:22:22.725Z"
   },
   {
    "duration": 11,
    "start_time": "2024-07-08T00:22:23.303Z"
   },
   {
    "duration": 829,
    "start_time": "2024-07-08T00:22:23.318Z"
   },
   {
    "duration": 18,
    "start_time": "2024-07-08T00:22:24.151Z"
   },
   {
    "duration": 22,
    "start_time": "2024-07-08T00:22:24.175Z"
   },
   {
    "duration": 34,
    "start_time": "2024-07-08T00:22:24.201Z"
   },
   {
    "duration": 12,
    "start_time": "2024-07-08T00:22:24.240Z"
   },
   {
    "duration": 9,
    "start_time": "2024-07-08T00:22:24.256Z"
   },
   {
    "duration": 58,
    "start_time": "2024-07-08T00:22:24.268Z"
   },
   {
    "duration": 11,
    "start_time": "2024-07-08T00:22:24.329Z"
   },
   {
    "duration": 8,
    "start_time": "2024-07-08T00:22:24.345Z"
   },
   {
    "duration": 10,
    "start_time": "2024-07-08T00:22:38.536Z"
   },
   {
    "duration": 1520,
    "start_time": "2024-07-08T00:22:42.251Z"
   },
   {
    "duration": 35,
    "start_time": "2024-07-08T00:22:43.774Z"
   },
   {
    "duration": 18,
    "start_time": "2024-07-08T00:22:43.812Z"
   },
   {
    "duration": 15,
    "start_time": "2024-07-08T00:22:43.834Z"
   },
   {
    "duration": 12,
    "start_time": "2024-07-08T00:22:43.852Z"
   },
   {
    "duration": 16,
    "start_time": "2024-07-08T00:22:43.903Z"
   },
   {
    "duration": 5,
    "start_time": "2024-07-08T00:22:43.922Z"
   },
   {
    "duration": 16,
    "start_time": "2024-07-08T00:22:43.931Z"
   },
   {
    "duration": 4,
    "start_time": "2024-07-08T00:22:43.952Z"
   },
   {
    "duration": 11,
    "start_time": "2024-07-08T00:22:44.007Z"
   },
   {
    "duration": 453,
    "start_time": "2024-07-08T00:22:44.022Z"
   },
   {
    "duration": 26,
    "start_time": "2024-07-08T00:22:44.478Z"
   },
   {
    "duration": 783,
    "start_time": "2024-07-08T00:22:44.507Z"
   },
   {
    "duration": 6,
    "start_time": "2024-07-08T00:22:45.293Z"
   },
   {
    "duration": 16,
    "start_time": "2024-07-08T00:22:45.303Z"
   },
   {
    "duration": 27,
    "start_time": "2024-07-08T00:22:45.321Z"
   },
   {
    "duration": 12,
    "start_time": "2024-07-08T00:22:45.351Z"
   },
   {
    "duration": 40,
    "start_time": "2024-07-08T00:22:45.366Z"
   },
   {
    "duration": 13,
    "start_time": "2024-07-08T00:22:45.409Z"
   },
   {
    "duration": 8,
    "start_time": "2024-07-08T00:22:45.425Z"
   },
   {
    "duration": 7,
    "start_time": "2024-07-08T00:22:45.502Z"
   },
   {
    "duration": 1550,
    "start_time": "2024-07-08T00:22:56.789Z"
   },
   {
    "duration": 25,
    "start_time": "2024-07-08T00:22:58.342Z"
   },
   {
    "duration": 33,
    "start_time": "2024-07-08T00:22:58.370Z"
   },
   {
    "duration": 15,
    "start_time": "2024-07-08T00:22:58.407Z"
   },
   {
    "duration": 16,
    "start_time": "2024-07-08T00:22:58.425Z"
   },
   {
    "duration": 16,
    "start_time": "2024-07-08T00:22:58.443Z"
   },
   {
    "duration": 42,
    "start_time": "2024-07-08T00:22:58.462Z"
   },
   {
    "duration": 15,
    "start_time": "2024-07-08T00:22:58.507Z"
   },
   {
    "duration": 6,
    "start_time": "2024-07-08T00:22:58.524Z"
   },
   {
    "duration": 11,
    "start_time": "2024-07-08T00:22:58.536Z"
   },
   {
    "duration": 478,
    "start_time": "2024-07-08T00:22:58.549Z"
   },
   {
    "duration": 10,
    "start_time": "2024-07-08T00:22:59.033Z"
   },
   {
    "duration": 784,
    "start_time": "2024-07-08T00:22:59.046Z"
   },
   {
    "duration": 10,
    "start_time": "2024-07-08T00:22:59.834Z"
   },
   {
    "duration": 17,
    "start_time": "2024-07-08T00:22:59.847Z"
   },
   {
    "duration": 44,
    "start_time": "2024-07-08T00:22:59.867Z"
   },
   {
    "duration": 11,
    "start_time": "2024-07-08T00:22:59.914Z"
   },
   {
    "duration": 8,
    "start_time": "2024-07-08T00:22:59.928Z"
   },
   {
    "duration": 13,
    "start_time": "2024-07-08T00:22:59.941Z"
   },
   {
    "duration": 12,
    "start_time": "2024-07-08T00:23:00.003Z"
   },
   {
    "duration": 6,
    "start_time": "2024-07-08T00:23:00.018Z"
   },
   {
    "duration": 12,
    "start_time": "2024-07-08T00:23:16.835Z"
   },
   {
    "duration": 1481,
    "start_time": "2024-07-08T00:23:20.668Z"
   },
   {
    "duration": 26,
    "start_time": "2024-07-08T00:23:22.153Z"
   },
   {
    "duration": 30,
    "start_time": "2024-07-08T00:23:22.181Z"
   },
   {
    "duration": 15,
    "start_time": "2024-07-08T00:23:22.214Z"
   },
   {
    "duration": 12,
    "start_time": "2024-07-08T00:23:22.235Z"
   },
   {
    "duration": 52,
    "start_time": "2024-07-08T00:23:22.250Z"
   },
   {
    "duration": 5,
    "start_time": "2024-07-08T00:23:22.306Z"
   },
   {
    "duration": 13,
    "start_time": "2024-07-08T00:23:22.315Z"
   },
   {
    "duration": 4,
    "start_time": "2024-07-08T00:23:22.333Z"
   },
   {
    "duration": 11,
    "start_time": "2024-07-08T00:23:22.341Z"
   },
   {
    "duration": 485,
    "start_time": "2024-07-08T00:23:22.355Z"
   },
   {
    "duration": 9,
    "start_time": "2024-07-08T00:23:22.844Z"
   },
   {
    "duration": 766,
    "start_time": "2024-07-08T00:23:22.856Z"
   },
   {
    "duration": 6,
    "start_time": "2024-07-08T00:23:23.629Z"
   },
   {
    "duration": 15,
    "start_time": "2024-07-08T00:23:23.639Z"
   },
   {
    "duration": 24,
    "start_time": "2024-07-08T00:23:23.657Z"
   },
   {
    "duration": 30,
    "start_time": "2024-07-08T00:23:23.683Z"
   },
   {
    "duration": 8,
    "start_time": "2024-07-08T00:23:23.716Z"
   },
   {
    "duration": 74,
    "start_time": "2024-07-08T00:23:23.727Z"
   },
   {
    "duration": 7,
    "start_time": "2024-07-08T00:23:23.805Z"
   },
   {
    "duration": 7,
    "start_time": "2024-07-08T00:23:23.816Z"
   },
   {
    "duration": 11,
    "start_time": "2024-07-08T00:23:30.558Z"
   },
   {
    "duration": 1493,
    "start_time": "2024-07-08T00:23:34.942Z"
   },
   {
    "duration": 25,
    "start_time": "2024-07-08T00:23:36.438Z"
   },
   {
    "duration": 17,
    "start_time": "2024-07-08T00:23:36.466Z"
   },
   {
    "duration": 17,
    "start_time": "2024-07-08T00:23:36.503Z"
   },
   {
    "duration": 13,
    "start_time": "2024-07-08T00:23:36.523Z"
   },
   {
    "duration": 13,
    "start_time": "2024-07-08T00:23:36.539Z"
   },
   {
    "duration": 5,
    "start_time": "2024-07-08T00:23:36.556Z"
   },
   {
    "duration": 16,
    "start_time": "2024-07-08T00:23:36.603Z"
   },
   {
    "duration": 4,
    "start_time": "2024-07-08T00:23:36.622Z"
   },
   {
    "duration": 10,
    "start_time": "2024-07-08T00:23:36.632Z"
   },
   {
    "duration": 502,
    "start_time": "2024-07-08T00:23:36.645Z"
   },
   {
    "duration": 10,
    "start_time": "2024-07-08T00:23:37.150Z"
   },
   {
    "duration": 758,
    "start_time": "2024-07-08T00:23:37.164Z"
   },
   {
    "duration": 7,
    "start_time": "2024-07-08T00:23:37.925Z"
   },
   {
    "duration": 15,
    "start_time": "2024-07-08T00:23:37.936Z"
   },
   {
    "duration": 48,
    "start_time": "2024-07-08T00:23:37.954Z"
   },
   {
    "duration": 16,
    "start_time": "2024-07-08T00:23:38.005Z"
   },
   {
    "duration": 9,
    "start_time": "2024-07-08T00:23:38.024Z"
   },
   {
    "duration": 15,
    "start_time": "2024-07-08T00:23:38.036Z"
   },
   {
    "duration": 48,
    "start_time": "2024-07-08T00:23:38.054Z"
   },
   {
    "duration": 6,
    "start_time": "2024-07-08T00:23:38.106Z"
   },
   {
    "duration": 9,
    "start_time": "2024-07-08T00:23:46.177Z"
   },
   {
    "duration": 1445,
    "start_time": "2024-07-08T00:23:50.467Z"
   },
   {
    "duration": 26,
    "start_time": "2024-07-08T00:23:51.916Z"
   },
   {
    "duration": 18,
    "start_time": "2024-07-08T00:23:51.945Z"
   },
   {
    "duration": 44,
    "start_time": "2024-07-08T00:23:51.967Z"
   },
   {
    "duration": 13,
    "start_time": "2024-07-08T00:23:52.015Z"
   },
   {
    "duration": 15,
    "start_time": "2024-07-08T00:23:52.031Z"
   },
   {
    "duration": 5,
    "start_time": "2024-07-08T00:23:52.049Z"
   },
   {
    "duration": 55,
    "start_time": "2024-07-08T00:23:52.058Z"
   },
   {
    "duration": 5,
    "start_time": "2024-07-08T00:23:52.118Z"
   },
   {
    "duration": 13,
    "start_time": "2024-07-08T00:23:52.126Z"
   },
   {
    "duration": 498,
    "start_time": "2024-07-08T00:23:52.142Z"
   },
   {
    "duration": 11,
    "start_time": "2024-07-08T00:23:52.643Z"
   },
   {
    "duration": 761,
    "start_time": "2024-07-08T00:23:52.657Z"
   },
   {
    "duration": 6,
    "start_time": "2024-07-08T00:23:53.423Z"
   },
   {
    "duration": 14,
    "start_time": "2024-07-08T00:23:53.432Z"
   },
   {
    "duration": 26,
    "start_time": "2024-07-08T00:23:53.449Z"
   },
   {
    "duration": 33,
    "start_time": "2024-07-08T00:23:53.478Z"
   },
   {
    "duration": 8,
    "start_time": "2024-07-08T00:23:53.515Z"
   },
   {
    "duration": 16,
    "start_time": "2024-07-08T00:23:53.527Z"
   },
   {
    "duration": 57,
    "start_time": "2024-07-08T00:23:53.546Z"
   },
   {
    "duration": 6,
    "start_time": "2024-07-08T00:23:53.607Z"
   },
   {
    "duration": 11,
    "start_time": "2024-07-08T00:24:00.091Z"
   },
   {
    "duration": 1466,
    "start_time": "2024-07-08T00:24:03.737Z"
   },
   {
    "duration": 25,
    "start_time": "2024-07-08T00:24:05.207Z"
   },
   {
    "duration": 17,
    "start_time": "2024-07-08T00:24:05.234Z"
   },
   {
    "duration": 14,
    "start_time": "2024-07-08T00:24:05.254Z"
   },
   {
    "duration": 12,
    "start_time": "2024-07-08T00:24:05.305Z"
   },
   {
    "duration": 14,
    "start_time": "2024-07-08T00:24:05.321Z"
   },
   {
    "duration": 5,
    "start_time": "2024-07-08T00:24:05.338Z"
   },
   {
    "duration": 13,
    "start_time": "2024-07-08T00:24:05.346Z"
   },
   {
    "duration": 5,
    "start_time": "2024-07-08T00:24:05.403Z"
   },
   {
    "duration": 12,
    "start_time": "2024-07-08T00:24:05.412Z"
   },
   {
    "duration": 466,
    "start_time": "2024-07-08T00:24:05.427Z"
   },
   {
    "duration": 15,
    "start_time": "2024-07-08T00:24:05.901Z"
   },
   {
    "duration": 823,
    "start_time": "2024-07-08T00:24:05.919Z"
   },
   {
    "duration": 5,
    "start_time": "2024-07-08T00:24:06.749Z"
   },
   {
    "duration": 16,
    "start_time": "2024-07-08T00:24:06.757Z"
   },
   {
    "duration": 39,
    "start_time": "2024-07-08T00:24:06.776Z"
   },
   {
    "duration": 11,
    "start_time": "2024-07-08T00:24:06.818Z"
   },
   {
    "duration": 8,
    "start_time": "2024-07-08T00:24:06.833Z"
   },
   {
    "duration": 60,
    "start_time": "2024-07-08T00:24:06.845Z"
   },
   {
    "duration": 13,
    "start_time": "2024-07-08T00:24:06.909Z"
   },
   {
    "duration": 79,
    "start_time": "2024-07-08T00:24:06.925Z"
   },
   {
    "duration": 9,
    "start_time": "2024-07-08T00:24:31.128Z"
   },
   {
    "duration": 1483,
    "start_time": "2024-07-08T00:24:35.152Z"
   },
   {
    "duration": 25,
    "start_time": "2024-07-08T00:24:36.639Z"
   },
   {
    "duration": 34,
    "start_time": "2024-07-08T00:24:36.668Z"
   },
   {
    "duration": 20,
    "start_time": "2024-07-08T00:24:36.705Z"
   },
   {
    "duration": 12,
    "start_time": "2024-07-08T00:24:36.730Z"
   },
   {
    "duration": 56,
    "start_time": "2024-07-08T00:24:36.746Z"
   },
   {
    "duration": 9,
    "start_time": "2024-07-08T00:24:36.805Z"
   },
   {
    "duration": 14,
    "start_time": "2024-07-08T00:24:36.816Z"
   },
   {
    "duration": 4,
    "start_time": "2024-07-08T00:24:36.835Z"
   },
   {
    "duration": 12,
    "start_time": "2024-07-08T00:24:36.842Z"
   },
   {
    "duration": 497,
    "start_time": "2024-07-08T00:24:36.858Z"
   },
   {
    "duration": 11,
    "start_time": "2024-07-08T00:24:37.358Z"
   },
   {
    "duration": 778,
    "start_time": "2024-07-08T00:24:37.372Z"
   },
   {
    "duration": 6,
    "start_time": "2024-07-08T00:24:38.157Z"
   },
   {
    "duration": 18,
    "start_time": "2024-07-08T00:24:38.167Z"
   },
   {
    "duration": 31,
    "start_time": "2024-07-08T00:24:38.188Z"
   },
   {
    "duration": 13,
    "start_time": "2024-07-08T00:24:38.223Z"
   },
   {
    "duration": 8,
    "start_time": "2024-07-08T00:24:38.239Z"
   },
   {
    "duration": 62,
    "start_time": "2024-07-08T00:24:38.251Z"
   },
   {
    "duration": 7,
    "start_time": "2024-07-08T00:24:38.318Z"
   },
   {
    "duration": 6,
    "start_time": "2024-07-08T00:24:38.329Z"
   },
   {
    "duration": 9,
    "start_time": "2024-07-08T00:24:45.653Z"
   },
   {
    "duration": 1447,
    "start_time": "2024-07-08T00:24:49.261Z"
   },
   {
    "duration": 26,
    "start_time": "2024-07-08T00:24:50.712Z"
   },
   {
    "duration": 16,
    "start_time": "2024-07-08T00:24:50.741Z"
   },
   {
    "duration": 43,
    "start_time": "2024-07-08T00:24:50.761Z"
   },
   {
    "duration": 13,
    "start_time": "2024-07-08T00:24:50.808Z"
   },
   {
    "duration": 15,
    "start_time": "2024-07-08T00:24:50.824Z"
   },
   {
    "duration": 6,
    "start_time": "2024-07-08T00:24:50.842Z"
   },
   {
    "duration": 55,
    "start_time": "2024-07-08T00:24:50.851Z"
   },
   {
    "duration": 6,
    "start_time": "2024-07-08T00:24:50.910Z"
   },
   {
    "duration": 13,
    "start_time": "2024-07-08T00:24:50.919Z"
   },
   {
    "duration": 480,
    "start_time": "2024-07-08T00:24:50.936Z"
   },
   {
    "duration": 12,
    "start_time": "2024-07-08T00:24:51.420Z"
   },
   {
    "duration": 786,
    "start_time": "2024-07-08T00:24:51.436Z"
   },
   {
    "duration": 7,
    "start_time": "2024-07-08T00:24:52.230Z"
   },
   {
    "duration": 13,
    "start_time": "2024-07-08T00:24:52.240Z"
   },
   {
    "duration": 17,
    "start_time": "2024-07-08T00:24:52.256Z"
   },
   {
    "duration": 33,
    "start_time": "2024-07-08T00:24:52.275Z"
   },
   {
    "duration": 8,
    "start_time": "2024-07-08T00:24:52.312Z"
   },
   {
    "duration": 13,
    "start_time": "2024-07-08T00:24:52.323Z"
   },
   {
    "duration": 6,
    "start_time": "2024-07-08T00:24:52.340Z"
   },
   {
    "duration": 6,
    "start_time": "2024-07-08T00:24:52.402Z"
   },
   {
    "duration": 1441,
    "start_time": "2024-07-08T00:25:03.671Z"
   },
   {
    "duration": 28,
    "start_time": "2024-07-08T00:25:05.116Z"
   },
   {
    "duration": 17,
    "start_time": "2024-07-08T00:25:05.148Z"
   },
   {
    "duration": 42,
    "start_time": "2024-07-08T00:25:05.168Z"
   },
   {
    "duration": 12,
    "start_time": "2024-07-08T00:25:05.214Z"
   },
   {
    "duration": 16,
    "start_time": "2024-07-08T00:25:05.229Z"
   },
   {
    "duration": 5,
    "start_time": "2024-07-08T00:25:05.248Z"
   },
   {
    "duration": 52,
    "start_time": "2024-07-08T00:25:05.256Z"
   },
   {
    "duration": 5,
    "start_time": "2024-07-08T00:25:05.312Z"
   },
   {
    "duration": 11,
    "start_time": "2024-07-08T00:25:05.319Z"
   },
   {
    "duration": 469,
    "start_time": "2024-07-08T00:25:05.334Z"
   },
   {
    "duration": 9,
    "start_time": "2024-07-08T00:25:05.807Z"
   },
   {
    "duration": 826,
    "start_time": "2024-07-08T00:25:05.820Z"
   },
   {
    "duration": 7,
    "start_time": "2024-07-08T00:25:06.652Z"
   },
   {
    "duration": 18,
    "start_time": "2024-07-08T00:25:06.662Z"
   },
   {
    "duration": 35,
    "start_time": "2024-07-08T00:25:06.683Z"
   },
   {
    "duration": 11,
    "start_time": "2024-07-08T00:25:06.721Z"
   },
   {
    "duration": 8,
    "start_time": "2024-07-08T00:25:06.736Z"
   },
   {
    "duration": 60,
    "start_time": "2024-07-08T00:25:06.748Z"
   },
   {
    "duration": 8,
    "start_time": "2024-07-08T00:25:06.811Z"
   },
   {
    "duration": 5,
    "start_time": "2024-07-08T00:25:06.822Z"
   },
   {
    "duration": 105,
    "start_time": "2024-07-08T00:27:06.114Z"
   },
   {
    "duration": 11,
    "start_time": "2024-07-08T00:27:52.391Z"
   },
   {
    "duration": 6,
    "start_time": "2024-07-08T00:28:10.154Z"
   },
   {
    "duration": 6,
    "start_time": "2024-07-08T00:28:10.620Z"
   },
   {
    "duration": 4,
    "start_time": "2024-07-08T00:28:26.924Z"
   },
   {
    "duration": 58,
    "start_time": "2024-07-08T00:28:44.668Z"
   },
   {
    "duration": 8,
    "start_time": "2024-07-08T00:29:19.675Z"
   },
   {
    "duration": 5,
    "start_time": "2024-07-08T00:29:38.335Z"
   },
   {
    "duration": 5,
    "start_time": "2024-07-08T00:29:49.590Z"
   },
   {
    "duration": 4,
    "start_time": "2024-07-08T00:30:12.928Z"
   },
   {
    "duration": 186,
    "start_time": "2024-07-08T00:30:13.312Z"
   },
   {
    "duration": 8,
    "start_time": "2024-07-08T00:30:18.098Z"
   },
   {
    "duration": 5,
    "start_time": "2024-07-08T00:30:18.457Z"
   },
   {
    "duration": 4,
    "start_time": "2024-07-08T00:37:46.892Z"
   },
   {
    "duration": 441,
    "start_time": "2024-07-08T00:38:13.444Z"
   },
   {
    "duration": 129,
    "start_time": "2024-07-08T00:38:26.622Z"
   },
   {
    "duration": 6,
    "start_time": "2024-07-08T00:38:33.722Z"
   },
   {
    "duration": 4107,
    "start_time": "2024-07-08T00:39:10.444Z"
   },
   {
    "duration": 9,
    "start_time": "2024-07-08T00:40:13.880Z"
   },
   {
    "duration": 5,
    "start_time": "2024-07-08T00:40:35.265Z"
   },
   {
    "duration": 4,
    "start_time": "2024-07-08T00:40:54.681Z"
   },
   {
    "duration": 753,
    "start_time": "2024-07-08T00:40:56.950Z"
   },
   {
    "duration": 5,
    "start_time": "2024-07-08T00:41:11.352Z"
   },
   {
    "duration": 346374,
    "start_time": "2024-07-08T00:41:13.647Z"
   },
   {
    "duration": 6,
    "start_time": "2024-07-08T00:47:05.908Z"
   },
   {
    "duration": 6,
    "start_time": "2024-07-08T00:47:06.493Z"
   },
   {
    "duration": 6,
    "start_time": "2024-07-08T00:47:10.947Z"
   },
   {
    "duration": 6,
    "start_time": "2024-07-08T00:47:11.481Z"
   },
   {
    "duration": 5,
    "start_time": "2024-07-08T00:47:29.291Z"
   },
   {
    "duration": 8500,
    "start_time": "2024-07-08T00:47:31.072Z"
   },
   {
    "duration": 10,
    "start_time": "2024-07-08T00:47:46.516Z"
   },
   {
    "duration": 9,
    "start_time": "2024-07-08T00:47:47.416Z"
   },
   {
    "duration": 4,
    "start_time": "2024-07-08T00:48:03.458Z"
   },
   {
    "duration": 10612,
    "start_time": "2024-07-08T00:48:03.919Z"
   },
   {
    "duration": 9,
    "start_time": "2024-07-08T00:48:19.474Z"
   },
   {
    "duration": 5,
    "start_time": "2024-07-08T00:48:20.412Z"
   },
   {
    "duration": 4,
    "start_time": "2024-07-08T00:48:29.817Z"
   },
   {
    "duration": 2459,
    "start_time": "2024-07-08T00:48:30.252Z"
   },
   {
    "duration": 7,
    "start_time": "2024-07-08T00:48:35.538Z"
   },
   {
    "duration": 6,
    "start_time": "2024-07-08T00:48:35.727Z"
   },
   {
    "duration": 8,
    "start_time": "2024-07-08T00:48:36.266Z"
   },
   {
    "duration": 6,
    "start_time": "2024-07-08T00:48:36.465Z"
   },
   {
    "duration": 8,
    "start_time": "2024-07-08T00:48:37.410Z"
   },
   {
    "duration": 6,
    "start_time": "2024-07-08T00:48:38.106Z"
   },
   {
    "duration": 4,
    "start_time": "2024-07-08T00:48:56.847Z"
   },
   {
    "duration": 105,
    "start_time": "2024-07-08T00:48:57.268Z"
   },
   {
    "duration": 8,
    "start_time": "2024-07-08T00:49:01.742Z"
   },
   {
    "duration": 5,
    "start_time": "2024-07-08T00:49:02.211Z"
   },
   {
    "duration": 3,
    "start_time": "2024-07-08T00:49:12.111Z"
   },
   {
    "duration": 72,
    "start_time": "2024-07-08T00:49:12.414Z"
   },
   {
    "duration": 8,
    "start_time": "2024-07-08T00:49:15.242Z"
   },
   {
    "duration": 6,
    "start_time": "2024-07-08T00:49:15.626Z"
   },
   {
    "duration": 4,
    "start_time": "2024-07-08T00:49:20.807Z"
   },
   {
    "duration": 122,
    "start_time": "2024-07-08T00:49:21.089Z"
   },
   {
    "duration": 10,
    "start_time": "2024-07-08T00:49:24.886Z"
   },
   {
    "duration": 5,
    "start_time": "2024-07-08T00:49:25.446Z"
   },
   {
    "duration": 5,
    "start_time": "2024-07-08T00:49:33.108Z"
   },
   {
    "duration": 215,
    "start_time": "2024-07-08T00:49:33.456Z"
   },
   {
    "duration": 8,
    "start_time": "2024-07-08T00:49:36.935Z"
   },
   {
    "duration": 5,
    "start_time": "2024-07-08T00:49:37.443Z"
   },
   {
    "duration": 4,
    "start_time": "2024-07-08T00:49:44.353Z"
   },
   {
    "duration": 203,
    "start_time": "2024-07-08T00:49:44.663Z"
   },
   {
    "duration": 8,
    "start_time": "2024-07-08T00:49:47.402Z"
   },
   {
    "duration": 6,
    "start_time": "2024-07-08T00:49:47.864Z"
   },
   {
    "duration": 4,
    "start_time": "2024-07-08T00:49:53.361Z"
   },
   {
    "duration": 189,
    "start_time": "2024-07-08T00:49:53.714Z"
   },
   {
    "duration": 8,
    "start_time": "2024-07-08T00:49:57.408Z"
   },
   {
    "duration": 5,
    "start_time": "2024-07-08T00:49:57.719Z"
   },
   {
    "duration": 4,
    "start_time": "2024-07-08T00:50:05.368Z"
   },
   {
    "duration": 251,
    "start_time": "2024-07-08T00:50:05.790Z"
   },
   {
    "duration": 8,
    "start_time": "2024-07-08T00:50:09.090Z"
   },
   {
    "duration": 6,
    "start_time": "2024-07-08T00:50:09.507Z"
   },
   {
    "duration": 4,
    "start_time": "2024-07-08T00:50:14.578Z"
   },
   {
    "duration": 195,
    "start_time": "2024-07-08T00:50:14.883Z"
   },
   {
    "duration": 8,
    "start_time": "2024-07-08T00:50:18.435Z"
   },
   {
    "duration": 5,
    "start_time": "2024-07-08T00:50:18.730Z"
   },
   {
    "duration": 4,
    "start_time": "2024-07-08T00:52:07.221Z"
   },
   {
    "duration": 18,
    "start_time": "2024-07-08T00:52:07.737Z"
   },
   {
    "duration": 4,
    "start_time": "2024-07-08T00:52:29.161Z"
   },
   {
    "duration": 194,
    "start_time": "2024-07-08T00:52:29.823Z"
   },
   {
    "duration": 3,
    "start_time": "2024-07-08T00:52:50.764Z"
   },
   {
    "duration": 2429,
    "start_time": "2024-07-08T00:53:15.569Z"
   },
   {
    "duration": 5376,
    "start_time": "2024-07-08T03:18:13.989Z"
   },
   {
    "duration": 42,
    "start_time": "2024-07-08T03:18:19.369Z"
   },
   {
    "duration": 20,
    "start_time": "2024-07-08T03:18:19.414Z"
   },
   {
    "duration": 20,
    "start_time": "2024-07-08T03:18:19.437Z"
   },
   {
    "duration": 16,
    "start_time": "2024-07-08T03:18:19.462Z"
   },
   {
    "duration": 36,
    "start_time": "2024-07-08T03:18:19.481Z"
   },
   {
    "duration": 6,
    "start_time": "2024-07-08T03:18:19.521Z"
   },
   {
    "duration": 17,
    "start_time": "2024-07-08T03:18:19.530Z"
   },
   {
    "duration": 6,
    "start_time": "2024-07-08T03:18:19.550Z"
   },
   {
    "duration": 56,
    "start_time": "2024-07-08T03:18:19.560Z"
   },
   {
    "duration": 387,
    "start_time": "2024-07-08T03:18:19.619Z"
   },
   {
    "duration": 11,
    "start_time": "2024-07-08T03:18:20.009Z"
   },
   {
    "duration": 820,
    "start_time": "2024-07-08T03:18:20.023Z"
   },
   {
    "duration": 6,
    "start_time": "2024-07-08T03:18:20.849Z"
   },
   {
    "duration": 15,
    "start_time": "2024-07-08T03:18:20.858Z"
   },
   {
    "duration": 31,
    "start_time": "2024-07-08T03:18:20.876Z"
   },
   {
    "duration": 10,
    "start_time": "2024-07-08T03:18:20.910Z"
   },
   {
    "duration": 7,
    "start_time": "2024-07-08T03:18:20.923Z"
   },
   {
    "duration": 4,
    "start_time": "2024-07-08T03:18:20.933Z"
   },
   {
    "duration": 65,
    "start_time": "2024-07-08T03:18:20.940Z"
   },
   {
    "duration": 4,
    "start_time": "2024-07-08T03:18:21.008Z"
   },
   {
    "duration": 273,
    "start_time": "2024-07-08T03:18:21.014Z"
   },
   {
    "duration": 4,
    "start_time": "2024-07-08T03:18:21.290Z"
   },
   {
    "duration": 4,
    "start_time": "2024-07-08T03:18:21.308Z"
   },
   {
    "duration": 2448,
    "start_time": "2024-07-08T03:18:21.316Z"
   },
   {
    "duration": 6,
    "start_time": "2024-07-08T03:18:23.766Z"
   },
   {
    "duration": 8,
    "start_time": "2024-07-08T03:18:23.775Z"
   },
   {
    "duration": 8,
    "start_time": "2024-07-08T03:18:23.786Z"
   },
   {
    "duration": 11,
    "start_time": "2024-07-08T03:18:23.797Z"
   },
   {
    "duration": 8,
    "start_time": "2024-07-08T03:18:23.811Z"
   },
   {
    "duration": 6,
    "start_time": "2024-07-08T03:18:23.822Z"
   }
  ],
  "kernelspec": {
   "display_name": "Python 3 (ipykernel)",
   "language": "python",
   "name": "python3"
  },
  "language_info": {
   "codemirror_mode": {
    "name": "ipython",
    "version": 3
   },
   "file_extension": ".py",
   "mimetype": "text/x-python",
   "name": "python",
   "nbconvert_exporter": "python",
   "pygments_lexer": "ipython3",
   "version": "3.9.19"
  },
  "toc": {
   "base_numbering": 1,
   "nav_menu": {},
   "number_sections": true,
   "sideBar": true,
   "skip_h1_title": true,
   "title_cell": "Table of Contents",
   "title_sidebar": "Contents",
   "toc_cell": false,
   "toc_position": {},
   "toc_section_display": true,
   "toc_window_display": true
  }
 },
 "nbformat": 4,
 "nbformat_minor": 2
}
